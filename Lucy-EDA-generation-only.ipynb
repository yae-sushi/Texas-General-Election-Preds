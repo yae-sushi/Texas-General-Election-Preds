{
 "cells": [
  {
   "cell_type": "code",
   "execution_count": null,
   "metadata": {},
   "outputs": [],
   "source": [
    "import pandas as pd\n",
    "import numpy as np\n",
    "import matplotlib.pyplot as plt\n",
    "import plotly as py\n",
    "import seaborn as sns\n",
    "import plotly.express as px\n",
    "import json\n",
    "\n",
    "sns.set_theme()"
   ]
  },
  {
   "cell_type": "code",
   "execution_count": null,
   "metadata": {},
   "outputs": [],
   "source": [
    "df = pd.read_csv(\"./Data Collection/combined_df.csv\")\n",
    "fips_df = pd.read_csv(\"./Data Collection/data/2012.csv\")"
   ]
  },
  {
   "cell_type": "code",
   "execution_count": null,
   "metadata": {},
   "outputs": [],
   "source": [
    "def convert_3_digit_code(fips):\n",
    "    \"\"\"\n",
    "    converts integer fips number to a 3 digit string\n",
    "    with zeroes as left padding if needed\n",
    "    \n",
    "    inputs:\n",
    "    fips - int - fips number to convert\n",
    "    outputs:\n",
    "    fips code as str with length 3\n",
    "    \"\"\"\n",
    "    digits_wanted = 3\n",
    "    result = str(fips)\n",
    "    if fips >= 100:\n",
    "        return result\n",
    "    missing_zeroes = digits_wanted - len(result)\n",
    "    result = \"0\"*missing_zeroes + result\n",
    "    return result"
   ]
  },
  {
   "cell_type": "code",
   "execution_count": null,
   "metadata": {},
   "outputs": [],
   "source": [
    "# only interested in fips data for plotly\n",
    "fips_df = fips_df[['County', 'FIPS']]\n",
    "fips_df = fips_df[fips_df['County']!='STATE OF TEXAS']\n",
    "\n",
    "# change column name formatting to convention (lowercase and underscores)\n",
    "cols = [col.lower() for col in fips_df.columns]\n",
    "cols = [col.replace(\" \", \"_\") for col in cols]\n",
    "fips_df.columns = cols\n",
    "\n",
    "# change county info to lower case for easier index merging\n",
    "fips_df['county'] = fips_df['county'].apply(lambda x: x.lower())\n",
    "# change de witt county to dewitt county\n",
    "fips_df['county'] = fips_df['county'].replace(to_replace = \"de witt county\",\n",
    "                                             value = \"dewitt county\")\n",
    "\n",
    "# convert fips to 3-digit string\n",
    "fips_df['fips'] = fips_df['fips'].apply(convert_3_digit_code)\n",
    "\n",
    "fips_df = fips_df.set_index('county')\n",
    "fips_df.drop_duplicates(inplace = True)"
   ]
  },
  {
   "cell_type": "code",
   "execution_count": null,
   "metadata": {},
   "outputs": [],
   "source": [
    "df = df.set_index('county')\n",
    "full = df.merge(right = fips_df, how = 'left', left_index = True, right_index = True)\n",
    "full = full.reset_index()"
   ]
  },
  {
   "cell_type": "code",
   "execution_count": null,
   "metadata": {},
   "outputs": [],
   "source": [
    "def read_merge_prob(year):\n",
    "    \"\"\"\n",
    "    Easy read and merge of model soft probabilities for choropleth mapping\n",
    "    \"\"\"\n",
    "    path = f\"./output/probs_{year}.csv\"\n",
    "    prob = pd.read_csv(path, index_col = 'county')\n",
    "    prob = prob.merge(right = fips_df, how = 'left', left_index = True,\n",
    "              right_index = True)\n",
    "    return prob.reset_index()"
   ]
  },
  {
   "cell_type": "code",
   "execution_count": null,
   "metadata": {},
   "outputs": [],
   "source": [
    "prob_12 = read_merge_prob(12)\n",
    "prob_16 = read_merge_prob(16)\n",
    "prob_20 = read_merge_prob(20)"
   ]
  },
  {
   "cell_type": "code",
   "execution_count": null,
   "metadata": {},
   "outputs": [],
   "source": [
    "# downloaded geojson of texas counties from\n",
    "# https://data.texas.gov/Government-and-Taxes/County-Map/48ag-x9aa\n",
    "\n",
    "# used code from https://stackoverflow.com/questions/64492092/im-making-a-choropleth-map-with-plotly-express-how-do-i-match-up-the-values-in\n",
    "# to figure out how to use a custom geojson file\n",
    "    \n",
    "path_to_file = 'tx_county_map.geojson'\n",
    "with open(path_to_file) as f:\n",
    "    txgeo = json.load(f)"
   ]
  },
  {
   "cell_type": "code",
   "execution_count": null,
   "metadata": {},
   "outputs": [],
   "source": [
    "def make_tx_choropleth(col_name, col_label, range_color = None, scale = \"Viridis\",\n",
    "                       geojson = txgeo, df = full):\n",
    "    \"\"\"\n",
    "    Creates and displays choropleth of Texas counties colored by given col_name column\n",
    "    in full DataFrame.\n",
    "    \n",
    "    inputs:\n",
    "    col_name - str - name of column in full to color by\n",
    "    col_label - str - name to display column under\n",
    "    range_color - tuple - (x, y) with x, y being numbers indicating min and max\n",
    "        values for color scale\n",
    "    \"\"\"\n",
    "    fig = px.choropleth(data_frame = df, \n",
    "                        geojson = geojson,\n",
    "                        locations='fips', \n",
    "                        featureidkey=\"properties.fips_code\",\n",
    "                        color= col_name,\n",
    "                        color_continuous_scale= scale,\n",
    "                        range_color = range_color,\n",
    "#                         color_continuous_midpoint = scale_mid,\n",
    "                        hover_data=[\"county\"],\n",
    "                        scope = 'usa',\n",
    "                        labels = {col_name : col_label})\n",
    "    fig.update_geos(fitbounds=\"locations\", visible=False)\n",
    "    fig.update_layout(margin={\"r\":0,\"t\":0,\"l\":0,\"b\":0})\n",
    "    fig.show()\n",
    "    return"
   ]
  },
  {
   "cell_type": "code",
   "execution_count": null,
   "metadata": {},
   "outputs": [],
   "source": [
    "fips_df.head()"
   ]
  },
  {
   "cell_type": "code",
   "execution_count": null,
   "metadata": {},
   "outputs": [],
   "source": [
    "#actual votes"
   ]
  },
  {
   "cell_type": "code",
   "execution_count": null,
   "metadata": {},
   "outputs": [],
   "source": [
    "[col for col in full.columns if \"dem_vote\" in col]"
   ]
  },
  {
   "cell_type": "code",
   "execution_count": null,
   "metadata": {},
   "outputs": [],
   "source": [
    "full['2012_dem_vote_perc']"
   ]
  },
  {
   "cell_type": "code",
   "execution_count": null,
   "metadata": {},
   "outputs": [],
   "source": [
    "# # 2012\n",
    "# make_tx_choropleth('2012_dem_vote_perc', 'Perc of Voting D (2012)',\n",
    "#                    scale = \"Bluered_r\", range_color = (0, 1))"
   ]
  },
  {
   "cell_type": "code",
   "execution_count": null,
   "metadata": {},
   "outputs": [],
   "source": [
    "# # 2016\n",
    "# make_tx_choropleth('2016_dem_vote_perc', 'Perc of Voting D (2016)',\n",
    "#                    scale = \"Bluered_r\", range_color = (0, 1))"
   ]
  },
  {
   "cell_type": "code",
   "execution_count": null,
   "metadata": {},
   "outputs": [],
   "source": [
    "# # 2020\n",
    "# make_tx_choropleth('2020_dem_vote_perc', 'Perc of Voting D (2020)',\n",
    "#                    scale = \"Bluered_r\", range_color = (0, 1))"
   ]
  },
  {
   "cell_type": "code",
   "execution_count": null,
   "metadata": {},
   "outputs": [],
   "source": []
  },
  {
   "cell_type": "code",
   "execution_count": null,
   "metadata": {},
   "outputs": [],
   "source": [
    "prob_12.head()"
   ]
  },
  {
   "cell_type": "code",
   "execution_count": null,
   "metadata": {},
   "outputs": [],
   "source": [
    "# # 2012\n",
    "# make_tx_choropleth('Probability County=Democrat', 'Prob of Voting D (2012)',\n",
    "#                    scale = \"Bluered_r\", range_color = (0, 1),\n",
    "#                    df = prob_12)"
   ]
  },
  {
   "cell_type": "code",
   "execution_count": null,
   "metadata": {},
   "outputs": [],
   "source": [
    "# # 2016\n",
    "# make_tx_choropleth('Probability County=Democrat', 'Prob of Voting D (2016)',\n",
    "#                    scale = \"Bluered_r\", range_color = (0, 1),\n",
    "#                    df = prob_16)"
   ]
  },
  {
   "cell_type": "code",
   "execution_count": null,
   "metadata": {},
   "outputs": [],
   "source": [
    "# # 2020\n",
    "# make_tx_choropleth('Probability County=Democrat', 'Prob of Voting D (2020)',\n",
    "#                    scale = \"Bluered_r\", range_color = (0, 1),\n",
    "#                    df = prob_20)"
   ]
  },
  {
   "cell_type": "code",
   "execution_count": null,
   "metadata": {},
   "outputs": [],
   "source": []
  },
  {
   "cell_type": "markdown",
   "metadata": {},
   "source": [
    "### Unemployment Rate\n",
    "#### 2012"
   ]
  },
  {
   "cell_type": "code",
   "execution_count": null,
   "metadata": {},
   "outputs": [],
   "source": [
    "# make_tx_choropleth('2012_unemp', '2012 Unemployment Rate', range_color = (0, 0.18))"
   ]
  },
  {
   "cell_type": "markdown",
   "metadata": {},
   "source": [
    "#### 2016"
   ]
  },
  {
   "cell_type": "code",
   "execution_count": null,
   "metadata": {},
   "outputs": [],
   "source": [
    "# make_tx_choropleth('2016_unemp', '2016 Unemployment Rate', range_color = (0, 0.18))"
   ]
  },
  {
   "cell_type": "markdown",
   "metadata": {},
   "source": [
    "#### 2020"
   ]
  },
  {
   "cell_type": "code",
   "execution_count": null,
   "metadata": {},
   "outputs": [],
   "source": [
    "# make_tx_choropleth('2020_unemp', '2020 Unemployment Rate', range_color = (0, 0.18))"
   ]
  },
  {
   "cell_type": "markdown",
   "metadata": {},
   "source": [
    "### Median Income\n",
    "#### 2012 2016"
   ]
  },
  {
   "cell_type": "code",
   "execution_count": null,
   "metadata": {},
   "outputs": [],
   "source": [
    "[col for col in full.columns if \"inc\" in col]"
   ]
  },
  {
   "cell_type": "code",
   "execution_count": null,
   "metadata": {},
   "outputs": [],
   "source": [
    "full[[col for col in full.columns if \"inc\" in col]].describe().T"
   ]
  },
  {
   "cell_type": "code",
   "execution_count": null,
   "metadata": {},
   "outputs": [],
   "source": []
  },
  {
   "cell_type": "code",
   "execution_count": null,
   "metadata": {},
   "outputs": [],
   "source": [
    "# make_tx_choropleth('median_income_2012_2016_16_dollars', 'Median Income 12-16 (Adjusted)',\n",
    "#                    range_color = (20_000, 100_000))"
   ]
  },
  {
   "cell_type": "markdown",
   "metadata": {},
   "source": [
    "#### 2020"
   ]
  },
  {
   "cell_type": "code",
   "execution_count": null,
   "metadata": {},
   "outputs": [],
   "source": [
    "# make_tx_choropleth('median_income_2020_16_dollars', 'Median Income 2020 (Adjusted)',\n",
    "#                    range_color = (20_000, 100_000))"
   ]
  },
  {
   "cell_type": "markdown",
   "metadata": {},
   "source": [
    "### Percentage of Population that is Hispanic\n",
    "\n",
    "#### 2012"
   ]
  },
  {
   "cell_type": "code",
   "execution_count": null,
   "metadata": {},
   "outputs": [],
   "source": [
    "# make_tx_choropleth('hispanic_total_2012', '% Population Hispanic 2012',\n",
    "#                    range_color = (0, 1))"
   ]
  },
  {
   "cell_type": "markdown",
   "metadata": {},
   "source": [
    "#### 2016"
   ]
  },
  {
   "cell_type": "code",
   "execution_count": null,
   "metadata": {},
   "outputs": [],
   "source": [
    "# make_tx_choropleth('hispanic_total_2016', '% Population Hispanic 2016',\n",
    "#                    range_color = (0, 1))"
   ]
  },
  {
   "cell_type": "markdown",
   "metadata": {},
   "source": [
    "#### 2020"
   ]
  },
  {
   "cell_type": "code",
   "execution_count": null,
   "metadata": {},
   "outputs": [],
   "source": [
    "# make_tx_choropleth('hispanic_total_2020', '% Population Hispanic 2020',\n",
    "#                    range_color = (0, 1))"
   ]
  },
  {
   "cell_type": "markdown",
   "metadata": {},
   "source": [
    "### Percentage of Population of Black Women\n",
    "#### 2012"
   ]
  },
  {
   "cell_type": "code",
   "execution_count": null,
   "metadata": {},
   "outputs": [],
   "source": [
    "# make_tx_choropleth('total_black_female_2012', '% Black Female 2012',\n",
    "#                    range_color = (0, 0.2))"
   ]
  },
  {
   "cell_type": "markdown",
   "metadata": {},
   "source": [
    "#### 2016"
   ]
  },
  {
   "cell_type": "code",
   "execution_count": null,
   "metadata": {},
   "outputs": [],
   "source": [
    "# make_tx_choropleth('total_black_female_2016', '% Black Female 2016', range_color = (0, 0.2))"
   ]
  },
  {
   "cell_type": "markdown",
   "metadata": {},
   "source": [
    "#### 2020"
   ]
  },
  {
   "cell_type": "code",
   "execution_count": null,
   "metadata": {},
   "outputs": [],
   "source": [
    "# make_tx_choropleth('total_black_female_2020', '% Black Female 2020',\n",
    "#                    range_color = (0, 0.2))"
   ]
  },
  {
   "cell_type": "markdown",
   "metadata": {},
   "source": [
    "### Total Population\n",
    "#### 2012"
   ]
  },
  {
   "cell_type": "code",
   "execution_count": null,
   "metadata": {},
   "outputs": [],
   "source": [
    "# make_tx_choropleth('total_2012', 'Total Population 2012', range_color = (0, 2_500_000))"
   ]
  },
  {
   "cell_type": "markdown",
   "metadata": {},
   "source": [
    "#### 2020"
   ]
  },
  {
   "cell_type": "code",
   "execution_count": null,
   "metadata": {},
   "outputs": [],
   "source": [
    "# make_tx_choropleth('total_2020', 'Total Population 2020', range_color = (0, 2_500_000))"
   ]
  },
  {
   "cell_type": "markdown",
   "metadata": {},
   "source": [
    "### Voter Turnout\n",
    "#### 2012"
   ]
  },
  {
   "cell_type": "code",
   "execution_count": null,
   "metadata": {},
   "outputs": [],
   "source": [
    "# make_tx_choropleth('2012_voted_perc', 'Voter Turnout % 2012', range_color = (0.2, 1))"
   ]
  },
  {
   "cell_type": "markdown",
   "metadata": {},
   "source": [
    "#### 2016"
   ]
  },
  {
   "cell_type": "code",
   "execution_count": null,
   "metadata": {},
   "outputs": [],
   "source": [
    "# make_tx_choropleth('2016_voted_perc', 'Voter Turnout % 2016', range_color = (0.2, 1))"
   ]
  },
  {
   "cell_type": "markdown",
   "metadata": {},
   "source": [
    "#### 2020"
   ]
  },
  {
   "cell_type": "code",
   "execution_count": null,
   "metadata": {},
   "outputs": [],
   "source": [
    "# make_tx_choropleth('2020_voted_perc', 'Voter Turnout % 2020', range_color = (0.2, 1))"
   ]
  },
  {
   "cell_type": "code",
   "execution_count": null,
   "metadata": {},
   "outputs": [],
   "source": []
  },
  {
   "cell_type": "code",
   "execution_count": null,
   "metadata": {},
   "outputs": [],
   "source": []
  },
  {
   "cell_type": "code",
   "execution_count": null,
   "metadata": {},
   "outputs": [],
   "source": []
  },
  {
   "cell_type": "code",
   "execution_count": null,
   "metadata": {},
   "outputs": [],
   "source": [
    "full[]"
   ]
  },
  {
   "cell_type": "code",
   "execution_count": null,
   "metadata": {},
   "outputs": [],
   "source": [
    "[col for col in full.columns if \"voted_perc\" in col]"
   ]
  },
  {
   "cell_type": "code",
   "execution_count": null,
   "metadata": {},
   "outputs": [],
   "source": [
    "full.columns[:50]"
   ]
  },
  {
   "cell_type": "code",
   "execution_count": null,
   "metadata": {},
   "outputs": [],
   "source": [
    "full.columns[50:100]"
   ]
  },
  {
   "cell_type": "code",
   "execution_count": null,
   "metadata": {},
   "outputs": [],
   "source": [
    "full.columns[100:150]"
   ]
  },
  {
   "cell_type": "code",
   "execution_count": null,
   "metadata": {},
   "outputs": [],
   "source": [
    "full.columns[150:200]"
   ]
  },
  {
   "cell_type": "code",
   "execution_count": null,
   "metadata": {},
   "outputs": [],
   "source": [
    "full.head()"
   ]
  }
 ],
 "metadata": {
  "kernelspec": {
   "display_name": "Python [conda env:geo]",
   "language": "python",
   "name": "conda-env-geo-py"
  },
  "language_info": {
   "codemirror_mode": {
    "name": "ipython",
    "version": 3
   },
   "file_extension": ".py",
   "mimetype": "text/x-python",
   "name": "python",
   "nbconvert_exporter": "python",
   "pygments_lexer": "ipython3",
   "version": "3.9.5"
  }
 },
 "nbformat": 4,
 "nbformat_minor": 4
}

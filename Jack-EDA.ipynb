{
 "cells": [
  {
   "cell_type": "code",
   "execution_count": 21,
   "id": "0a05845a-24f5-4f91-b12d-366d4e93a773",
   "metadata": {},
   "outputs": [],
   "source": [
    "import seaborn as sns\n",
    "import pandas as pd"
   ]
  },
  {
   "cell_type": "code",
   "execution_count": 22,
   "id": "af6cf89e-0949-42b3-8bb5-56a4e6c0a5cb",
   "metadata": {},
   "outputs": [],
   "source": [
    "df = pd.read_csv('./Data Collection/Combined_df.csv', index_col = 'county')\n",
    "jack = pd.read_csv('./Data Collection/Jacks_df.csv', index_col = 'county_name')\n",
    "jack.drop(columns = 'Unnamed: 0', inplace = True)\n"
   ]
  },
  {
   "cell_type": "code",
   "execution_count": 46,
   "id": "4cdbac97-e505-487c-8d28-0332db6b550e",
   "metadata": {},
   "outputs": [
    {
     "ename": "KeyError",
     "evalue": "'Population'",
     "output_type": "error",
     "traceback": [
      "\u001b[1;31m---------------------------------------------------------------------------\u001b[0m",
      "\u001b[1;31mKeyError\u001b[0m                                  Traceback (most recent call last)",
      "\u001b[1;32m~\\anaconda3\\envs\\geo\\lib\\site-packages\\pandas\\core\\indexes\\base.py\u001b[0m in \u001b[0;36mget_loc\u001b[1;34m(self, key, method, tolerance)\u001b[0m\n\u001b[0;32m   3079\u001b[0m             \u001b[1;32mtry\u001b[0m\u001b[1;33m:\u001b[0m\u001b[1;33m\u001b[0m\u001b[1;33m\u001b[0m\u001b[0m\n\u001b[1;32m-> 3080\u001b[1;33m                 \u001b[1;32mreturn\u001b[0m \u001b[0mself\u001b[0m\u001b[1;33m.\u001b[0m\u001b[0m_engine\u001b[0m\u001b[1;33m.\u001b[0m\u001b[0mget_loc\u001b[0m\u001b[1;33m(\u001b[0m\u001b[0mcasted_key\u001b[0m\u001b[1;33m)\u001b[0m\u001b[1;33m\u001b[0m\u001b[1;33m\u001b[0m\u001b[0m\n\u001b[0m\u001b[0;32m   3081\u001b[0m             \u001b[1;32mexcept\u001b[0m \u001b[0mKeyError\u001b[0m \u001b[1;32mas\u001b[0m \u001b[0merr\u001b[0m\u001b[1;33m:\u001b[0m\u001b[1;33m\u001b[0m\u001b[1;33m\u001b[0m\u001b[0m\n",
      "\u001b[1;32mpandas\\_libs\\index.pyx\u001b[0m in \u001b[0;36mpandas._libs.index.IndexEngine.get_loc\u001b[1;34m()\u001b[0m\n",
      "\u001b[1;32mpandas\\_libs\\index.pyx\u001b[0m in \u001b[0;36mpandas._libs.index.IndexEngine.get_loc\u001b[1;34m()\u001b[0m\n",
      "\u001b[1;32mpandas\\_libs\\hashtable_class_helper.pxi\u001b[0m in \u001b[0;36mpandas._libs.hashtable.PyObjectHashTable.get_item\u001b[1;34m()\u001b[0m\n",
      "\u001b[1;32mpandas\\_libs\\hashtable_class_helper.pxi\u001b[0m in \u001b[0;36mpandas._libs.hashtable.PyObjectHashTable.get_item\u001b[1;34m()\u001b[0m\n",
      "\u001b[1;31mKeyError\u001b[0m: 'Population'",
      "\nThe above exception was the direct cause of the following exception:\n",
      "\u001b[1;31mKeyError\u001b[0m                                  Traceback (most recent call last)",
      "\u001b[1;32m<ipython-input-46-5f5ebbe2d6ab>\u001b[0m in \u001b[0;36m<module>\u001b[1;34m\u001b[0m\n\u001b[1;32m----> 1\u001b[1;33m \u001b[0mdf\u001b[0m\u001b[1;33m[\u001b[0m\u001b[1;34m'Population'\u001b[0m\u001b[1;33m]\u001b[0m\u001b[1;33m\u001b[0m\u001b[1;33m\u001b[0m\u001b[0m\n\u001b[0m",
      "\u001b[1;32m~\\anaconda3\\envs\\geo\\lib\\site-packages\\pandas\\core\\frame.py\u001b[0m in \u001b[0;36m__getitem__\u001b[1;34m(self, key)\u001b[0m\n\u001b[0;32m   3022\u001b[0m             \u001b[1;32mif\u001b[0m \u001b[0mself\u001b[0m\u001b[1;33m.\u001b[0m\u001b[0mcolumns\u001b[0m\u001b[1;33m.\u001b[0m\u001b[0mnlevels\u001b[0m \u001b[1;33m>\u001b[0m \u001b[1;36m1\u001b[0m\u001b[1;33m:\u001b[0m\u001b[1;33m\u001b[0m\u001b[1;33m\u001b[0m\u001b[0m\n\u001b[0;32m   3023\u001b[0m                 \u001b[1;32mreturn\u001b[0m \u001b[0mself\u001b[0m\u001b[1;33m.\u001b[0m\u001b[0m_getitem_multilevel\u001b[0m\u001b[1;33m(\u001b[0m\u001b[0mkey\u001b[0m\u001b[1;33m)\u001b[0m\u001b[1;33m\u001b[0m\u001b[1;33m\u001b[0m\u001b[0m\n\u001b[1;32m-> 3024\u001b[1;33m             \u001b[0mindexer\u001b[0m \u001b[1;33m=\u001b[0m \u001b[0mself\u001b[0m\u001b[1;33m.\u001b[0m\u001b[0mcolumns\u001b[0m\u001b[1;33m.\u001b[0m\u001b[0mget_loc\u001b[0m\u001b[1;33m(\u001b[0m\u001b[0mkey\u001b[0m\u001b[1;33m)\u001b[0m\u001b[1;33m\u001b[0m\u001b[1;33m\u001b[0m\u001b[0m\n\u001b[0m\u001b[0;32m   3025\u001b[0m             \u001b[1;32mif\u001b[0m \u001b[0mis_integer\u001b[0m\u001b[1;33m(\u001b[0m\u001b[0mindexer\u001b[0m\u001b[1;33m)\u001b[0m\u001b[1;33m:\u001b[0m\u001b[1;33m\u001b[0m\u001b[1;33m\u001b[0m\u001b[0m\n\u001b[0;32m   3026\u001b[0m                 \u001b[0mindexer\u001b[0m \u001b[1;33m=\u001b[0m \u001b[1;33m[\u001b[0m\u001b[0mindexer\u001b[0m\u001b[1;33m]\u001b[0m\u001b[1;33m\u001b[0m\u001b[1;33m\u001b[0m\u001b[0m\n",
      "\u001b[1;32m~\\anaconda3\\envs\\geo\\lib\\site-packages\\pandas\\core\\indexes\\base.py\u001b[0m in \u001b[0;36mget_loc\u001b[1;34m(self, key, method, tolerance)\u001b[0m\n\u001b[0;32m   3080\u001b[0m                 \u001b[1;32mreturn\u001b[0m \u001b[0mself\u001b[0m\u001b[1;33m.\u001b[0m\u001b[0m_engine\u001b[0m\u001b[1;33m.\u001b[0m\u001b[0mget_loc\u001b[0m\u001b[1;33m(\u001b[0m\u001b[0mcasted_key\u001b[0m\u001b[1;33m)\u001b[0m\u001b[1;33m\u001b[0m\u001b[1;33m\u001b[0m\u001b[0m\n\u001b[0;32m   3081\u001b[0m             \u001b[1;32mexcept\u001b[0m \u001b[0mKeyError\u001b[0m \u001b[1;32mas\u001b[0m \u001b[0merr\u001b[0m\u001b[1;33m:\u001b[0m\u001b[1;33m\u001b[0m\u001b[1;33m\u001b[0m\u001b[0m\n\u001b[1;32m-> 3082\u001b[1;33m                 \u001b[1;32mraise\u001b[0m \u001b[0mKeyError\u001b[0m\u001b[1;33m(\u001b[0m\u001b[0mkey\u001b[0m\u001b[1;33m)\u001b[0m \u001b[1;32mfrom\u001b[0m \u001b[0merr\u001b[0m\u001b[1;33m\u001b[0m\u001b[1;33m\u001b[0m\u001b[0m\n\u001b[0m\u001b[0;32m   3083\u001b[0m \u001b[1;33m\u001b[0m\u001b[0m\n\u001b[0;32m   3084\u001b[0m         \u001b[1;32mif\u001b[0m \u001b[0mtolerance\u001b[0m \u001b[1;32mis\u001b[0m \u001b[1;32mnot\u001b[0m \u001b[1;32mNone\u001b[0m\u001b[1;33m:\u001b[0m\u001b[1;33m\u001b[0m\u001b[1;33m\u001b[0m\u001b[0m\n",
      "\u001b[1;31mKeyError\u001b[0m: 'Population'"
     ]
    }
   ],
   "source": [
    "df['total_pop_2020'] = df['total_female_2020'] "
   ]
  },
  {
   "cell_type": "code",
   "execution_count": 23,
   "id": "81edbb41-486b-4b75-97a4-994655b09dbd",
   "metadata": {},
   "outputs": [
    {
     "data": {
      "text/html": [
       "<div>\n",
       "<style scoped>\n",
       "    .dataframe tbody tr th:only-of-type {\n",
       "        vertical-align: middle;\n",
       "    }\n",
       "\n",
       "    .dataframe tbody tr th {\n",
       "        vertical-align: top;\n",
       "    }\n",
       "\n",
       "    .dataframe thead th {\n",
       "        text-align: right;\n",
       "    }\n",
       "</style>\n",
       "<table border=\"1\" class=\"dataframe\">\n",
       "  <thead>\n",
       "    <tr style=\"text-align: right;\">\n",
       "      <th></th>\n",
       "      <th>2012_unemp</th>\n",
       "      <th>2016_unemp</th>\n",
       "      <th>2020_unemp</th>\n",
       "      <th>2012_var_state</th>\n",
       "      <th>2016_var_state</th>\n",
       "      <th>2020_var_state</th>\n",
       "      <th>median_income_2012_2016_16_dollars</th>\n",
       "      <th>median_income_2020_16_dollars</th>\n",
       "    </tr>\n",
       "    <tr>\n",
       "      <th>county_name</th>\n",
       "      <th></th>\n",
       "      <th></th>\n",
       "      <th></th>\n",
       "      <th></th>\n",
       "      <th></th>\n",
       "      <th></th>\n",
       "      <th></th>\n",
       "      <th></th>\n",
       "    </tr>\n",
       "  </thead>\n",
       "  <tbody>\n",
       "    <tr>\n",
       "      <th>Anderson</th>\n",
       "      <td>0.036</td>\n",
       "      <td>0.043</td>\n",
       "      <td>0.056</td>\n",
       "      <td>-0.029</td>\n",
       "      <td>-0.005</td>\n",
       "      <td>-0.012</td>\n",
       "      <td>42146</td>\n",
       "      <td>44871</td>\n",
       "    </tr>\n",
       "    <tr>\n",
       "      <th>Andrews</th>\n",
       "      <td>0.031</td>\n",
       "      <td>0.047</td>\n",
       "      <td>0.082</td>\n",
       "      <td>-0.034</td>\n",
       "      <td>-0.001</td>\n",
       "      <td>0.014</td>\n",
       "      <td>70121</td>\n",
       "      <td>69369</td>\n",
       "    </tr>\n",
       "    <tr>\n",
       "      <th>Angelina</th>\n",
       "      <td>0.051</td>\n",
       "      <td>0.059</td>\n",
       "      <td>0.076</td>\n",
       "      <td>-0.014</td>\n",
       "      <td>0.011</td>\n",
       "      <td>0.008</td>\n",
       "      <td>44185</td>\n",
       "      <td>47917</td>\n",
       "    </tr>\n",
       "    <tr>\n",
       "      <th>Aransas</th>\n",
       "      <td>0.068</td>\n",
       "      <td>0.056</td>\n",
       "      <td>0.085</td>\n",
       "      <td>0.003</td>\n",
       "      <td>0.008</td>\n",
       "      <td>0.017</td>\n",
       "      <td>44851</td>\n",
       "      <td>49153</td>\n",
       "    </tr>\n",
       "    <tr>\n",
       "      <th>Archer</th>\n",
       "      <td>0.034</td>\n",
       "      <td>0.043</td>\n",
       "      <td>0.053</td>\n",
       "      <td>-0.031</td>\n",
       "      <td>-0.005</td>\n",
       "      <td>-0.015</td>\n",
       "      <td>62407</td>\n",
       "      <td>59010</td>\n",
       "    </tr>\n",
       "  </tbody>\n",
       "</table>\n",
       "</div>"
      ],
      "text/plain": [
       "             2012_unemp  2016_unemp  2020_unemp  2012_var_state  \\\n",
       "county_name                                                       \n",
       "Anderson          0.036       0.043       0.056          -0.029   \n",
       "Andrews           0.031       0.047       0.082          -0.034   \n",
       "Angelina          0.051       0.059       0.076          -0.014   \n",
       "Aransas           0.068       0.056       0.085           0.003   \n",
       "Archer            0.034       0.043       0.053          -0.031   \n",
       "\n",
       "             2016_var_state  2020_var_state  \\\n",
       "county_name                                   \n",
       "Anderson             -0.005          -0.012   \n",
       "Andrews              -0.001           0.014   \n",
       "Angelina              0.011           0.008   \n",
       "Aransas               0.008           0.017   \n",
       "Archer               -0.005          -0.015   \n",
       "\n",
       "             median_income_2012_2016_16_dollars  median_income_2020_16_dollars  \n",
       "county_name                                                                     \n",
       "Anderson                                  42146                          44871  \n",
       "Andrews                                   70121                          69369  \n",
       "Angelina                                  44185                          47917  \n",
       "Aransas                                   44851                          49153  \n",
       "Archer                                    62407                          59010  "
      ]
     },
     "execution_count": 23,
     "metadata": {},
     "output_type": "execute_result"
    }
   ],
   "source": [
    "jack.head()"
   ]
  },
  {
   "cell_type": "code",
   "execution_count": null,
   "id": "ee23c12d-0dd5-4929-b082-c51da1f92f5b",
   "metadata": {},
   "outputs": [],
   "source": [
    "w = sns.catplot(x='variable', y='coefficient', data=corrs, kind='bar', height=8, aspect=2)"
   ]
  },
  {
   "cell_type": "code",
   "execution_count": 37,
   "id": "6ea5e67e-8aba-4c3a-b55f-e7ad402b23bc",
   "metadata": {},
   "outputs": [
    {
     "data": {
      "text/plain": [
       "-0.13803096258074984"
      ]
     },
     "execution_count": 37,
     "metadata": {},
     "output_type": "execute_result"
    }
   ],
   "source": [
    "df['2020_unemp'].corr(df['median_income_2020_16_dollars'])"
   ]
  },
  {
   "cell_type": "code",
   "execution_count": 42,
   "id": "d45196a2-4bf7-420b-b878-3d9a762fe680",
   "metadata": {},
   "outputs": [
    {
     "data": {
      "text/plain": [
       "black_total_2016_48 to 57     1\n",
       "black_female_2020_28 to 37    1\n",
       "other_total_2020_28 to 37     1\n",
       "other_total_2020_18 to 27     1\n",
       "other_total_2016_88 to 97     1\n",
       "                             ..\n",
       "2016_rep_vote_counte          0\n",
       "2020_votes_total              0\n",
       "2020_oth_vote_perc            0\n",
       "2020_oth_vote_count           0\n",
       "2012_unemp                    0\n",
       "Length: 421, dtype: int64"
      ]
     },
     "execution_count": 42,
     "metadata": {},
     "output_type": "execute_result"
    }
   ],
   "source": [
    "df.isna().sum().sort_values(ascending = False)"
   ]
  },
  {
   "cell_type": "code",
   "execution_count": null,
   "id": "8be14413-7654-4b24-af71-c115cb902d8f",
   "metadata": {},
   "outputs": [],
   "source": []
  }
 ],
 "metadata": {
  "kernelspec": {
   "display_name": "Python 3",
   "language": "python",
   "name": "python3"
  },
  "language_info": {
   "codemirror_mode": {
    "name": "ipython",
    "version": 3
   },
   "file_extension": ".py",
   "mimetype": "text/x-python",
   "name": "python",
   "nbconvert_exporter": "python",
   "pygments_lexer": "ipython3",
   "version": "3.9.5"
  }
 },
 "nbformat": 4,
 "nbformat_minor": 5
}

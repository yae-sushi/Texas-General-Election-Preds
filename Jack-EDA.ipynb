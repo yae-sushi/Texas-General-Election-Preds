{
 "cells": [
  {
   "cell_type": "code",
   "execution_count": 257,
   "metadata": {},
   "outputs": [],
   "source": [
    "import seaborn as sns\n",
    "import pandas as pd\n",
    "import matplotlib.pyplot as plt"
   ]
  },
  {
   "cell_type": "code",
   "execution_count": 258,
   "metadata": {},
   "outputs": [],
   "source": [
    "df = pd.read_csv('./Data Collection/Combined_df.csv', index_col = 'county')\n",
    "jack = pd.read_csv('./Data Collection/Jacks_df.csv', index_col = 'county_name')\n",
    "jack.drop(columns = 'Unnamed: 0', inplace = True)\n"
   ]
  },
  {
   "cell_type": "code",
   "execution_count": 259,
   "metadata": {},
   "outputs": [
    {
     "data": {
      "text/html": [
       "<div>\n",
       "<style scoped>\n",
       "    .dataframe tbody tr th:only-of-type {\n",
       "        vertical-align: middle;\n",
       "    }\n",
       "\n",
       "    .dataframe tbody tr th {\n",
       "        vertical-align: top;\n",
       "    }\n",
       "\n",
       "    .dataframe thead th {\n",
       "        text-align: right;\n",
       "    }\n",
       "</style>\n",
       "<table border=\"1\" class=\"dataframe\">\n",
       "  <thead>\n",
       "    <tr style=\"text-align: right;\">\n",
       "      <th></th>\n",
       "      <th>2012_unemp</th>\n",
       "      <th>2016_unemp</th>\n",
       "      <th>2020_unemp</th>\n",
       "      <th>2012_var_state</th>\n",
       "      <th>2016_var_state</th>\n",
       "      <th>2020_var_state</th>\n",
       "      <th>median_income_2012_2016_16_dollars</th>\n",
       "      <th>median_income_2020_16_dollars</th>\n",
       "    </tr>\n",
       "    <tr>\n",
       "      <th>county_name</th>\n",
       "      <th></th>\n",
       "      <th></th>\n",
       "      <th></th>\n",
       "      <th></th>\n",
       "      <th></th>\n",
       "      <th></th>\n",
       "      <th></th>\n",
       "      <th></th>\n",
       "    </tr>\n",
       "  </thead>\n",
       "  <tbody>\n",
       "    <tr>\n",
       "      <th>Anderson</th>\n",
       "      <td>0.036</td>\n",
       "      <td>0.043</td>\n",
       "      <td>0.056</td>\n",
       "      <td>-0.029</td>\n",
       "      <td>-0.005</td>\n",
       "      <td>-0.012</td>\n",
       "      <td>42146</td>\n",
       "      <td>44871</td>\n",
       "    </tr>\n",
       "    <tr>\n",
       "      <th>Andrews</th>\n",
       "      <td>0.031</td>\n",
       "      <td>0.047</td>\n",
       "      <td>0.082</td>\n",
       "      <td>-0.034</td>\n",
       "      <td>-0.001</td>\n",
       "      <td>0.014</td>\n",
       "      <td>70121</td>\n",
       "      <td>69369</td>\n",
       "    </tr>\n",
       "    <tr>\n",
       "      <th>Angelina</th>\n",
       "      <td>0.051</td>\n",
       "      <td>0.059</td>\n",
       "      <td>0.076</td>\n",
       "      <td>-0.014</td>\n",
       "      <td>0.011</td>\n",
       "      <td>0.008</td>\n",
       "      <td>44185</td>\n",
       "      <td>47917</td>\n",
       "    </tr>\n",
       "    <tr>\n",
       "      <th>Aransas</th>\n",
       "      <td>0.068</td>\n",
       "      <td>0.056</td>\n",
       "      <td>0.085</td>\n",
       "      <td>0.003</td>\n",
       "      <td>0.008</td>\n",
       "      <td>0.017</td>\n",
       "      <td>44851</td>\n",
       "      <td>49153</td>\n",
       "    </tr>\n",
       "    <tr>\n",
       "      <th>Archer</th>\n",
       "      <td>0.034</td>\n",
       "      <td>0.043</td>\n",
       "      <td>0.053</td>\n",
       "      <td>-0.031</td>\n",
       "      <td>-0.005</td>\n",
       "      <td>-0.015</td>\n",
       "      <td>62407</td>\n",
       "      <td>59010</td>\n",
       "    </tr>\n",
       "  </tbody>\n",
       "</table>\n",
       "</div>"
      ],
      "text/plain": [
       "             2012_unemp  2016_unemp  2020_unemp  2012_var_state  \\\n",
       "county_name                                                       \n",
       "Anderson          0.036       0.043       0.056          -0.029   \n",
       "Andrews           0.031       0.047       0.082          -0.034   \n",
       "Angelina          0.051       0.059       0.076          -0.014   \n",
       "Aransas           0.068       0.056       0.085           0.003   \n",
       "Archer            0.034       0.043       0.053          -0.031   \n",
       "\n",
       "             2016_var_state  2020_var_state  \\\n",
       "county_name                                   \n",
       "Anderson             -0.005          -0.012   \n",
       "Andrews              -0.001           0.014   \n",
       "Angelina              0.011           0.008   \n",
       "Aransas               0.008           0.017   \n",
       "Archer               -0.005          -0.015   \n",
       "\n",
       "             median_income_2012_2016_16_dollars  median_income_2020_16_dollars  \n",
       "county_name                                                                     \n",
       "Anderson                                  42146                          44871  \n",
       "Andrews                                   70121                          69369  \n",
       "Angelina                                  44185                          47917  \n",
       "Aransas                                   44851                          49153  \n",
       "Archer                                    62407                          59010  "
      ]
     },
     "execution_count": 259,
     "metadata": {},
     "output_type": "execute_result"
    }
   ],
   "source": [
    "jack.head()"
   ]
  },
  {
   "cell_type": "code",
   "execution_count": 260,
   "metadata": {},
   "outputs": [
    {
     "data": {
      "text/plain": [
       "county\n",
       "anderson county    58199\n",
       "andrews county     22269\n",
       "angelina county    90437\n",
       "aransas county     27699\n",
       "archer county       8344\n",
       "                   ...  \n",
       "wood county        45292\n",
       "yoakum county       9225\n",
       "young county       18712\n",
       "zapata county      14409\n",
       "zavala county      12682\n",
       "Name: total_2020, Length: 254, dtype: int64"
      ]
     },
     "execution_count": 260,
     "metadata": {},
     "output_type": "execute_result"
    }
   ],
   "source": [
    "df['total_2020']"
   ]
  },
  {
   "cell_type": "code",
   "execution_count": 261,
   "metadata": {},
   "outputs": [
    {
     "data": {
      "text/html": [
       "<div>\n",
       "<style scoped>\n",
       "    .dataframe tbody tr th:only-of-type {\n",
       "        vertical-align: middle;\n",
       "    }\n",
       "\n",
       "    .dataframe tbody tr th {\n",
       "        vertical-align: top;\n",
       "    }\n",
       "\n",
       "    .dataframe thead th {\n",
       "        text-align: right;\n",
       "    }\n",
       "</style>\n",
       "<table border=\"1\" class=\"dataframe\">\n",
       "  <thead>\n",
       "    <tr style=\"text-align: right;\">\n",
       "      <th></th>\n",
       "      <th>2012_unemp</th>\n",
       "      <th>2016_unemp</th>\n",
       "      <th>2020_unemp</th>\n",
       "      <th>2012_var_state</th>\n",
       "      <th>2016_var_state</th>\n",
       "      <th>2020_var_state</th>\n",
       "      <th>median_income_2012_2016_16_dollars</th>\n",
       "      <th>median_income_2020_16_dollars</th>\n",
       "    </tr>\n",
       "    <tr>\n",
       "      <th>county_name</th>\n",
       "      <th></th>\n",
       "      <th></th>\n",
       "      <th></th>\n",
       "      <th></th>\n",
       "      <th></th>\n",
       "      <th></th>\n",
       "      <th></th>\n",
       "      <th></th>\n",
       "    </tr>\n",
       "  </thead>\n",
       "  <tbody>\n",
       "    <tr>\n",
       "      <th>Anderson</th>\n",
       "      <td>0.036</td>\n",
       "      <td>0.043</td>\n",
       "      <td>0.056</td>\n",
       "      <td>-0.029</td>\n",
       "      <td>-0.005</td>\n",
       "      <td>-0.012</td>\n",
       "      <td>42146</td>\n",
       "      <td>44871</td>\n",
       "    </tr>\n",
       "    <tr>\n",
       "      <th>Andrews</th>\n",
       "      <td>0.031</td>\n",
       "      <td>0.047</td>\n",
       "      <td>0.082</td>\n",
       "      <td>-0.034</td>\n",
       "      <td>-0.001</td>\n",
       "      <td>0.014</td>\n",
       "      <td>70121</td>\n",
       "      <td>69369</td>\n",
       "    </tr>\n",
       "    <tr>\n",
       "      <th>Angelina</th>\n",
       "      <td>0.051</td>\n",
       "      <td>0.059</td>\n",
       "      <td>0.076</td>\n",
       "      <td>-0.014</td>\n",
       "      <td>0.011</td>\n",
       "      <td>0.008</td>\n",
       "      <td>44185</td>\n",
       "      <td>47917</td>\n",
       "    </tr>\n",
       "    <tr>\n",
       "      <th>Aransas</th>\n",
       "      <td>0.068</td>\n",
       "      <td>0.056</td>\n",
       "      <td>0.085</td>\n",
       "      <td>0.003</td>\n",
       "      <td>0.008</td>\n",
       "      <td>0.017</td>\n",
       "      <td>44851</td>\n",
       "      <td>49153</td>\n",
       "    </tr>\n",
       "    <tr>\n",
       "      <th>Archer</th>\n",
       "      <td>0.034</td>\n",
       "      <td>0.043</td>\n",
       "      <td>0.053</td>\n",
       "      <td>-0.031</td>\n",
       "      <td>-0.005</td>\n",
       "      <td>-0.015</td>\n",
       "      <td>62407</td>\n",
       "      <td>59010</td>\n",
       "    </tr>\n",
       "  </tbody>\n",
       "</table>\n",
       "</div>"
      ],
      "text/plain": [
       "             2012_unemp  2016_unemp  2020_unemp  2012_var_state  \\\n",
       "county_name                                                       \n",
       "Anderson          0.036       0.043       0.056          -0.029   \n",
       "Andrews           0.031       0.047       0.082          -0.034   \n",
       "Angelina          0.051       0.059       0.076          -0.014   \n",
       "Aransas           0.068       0.056       0.085           0.003   \n",
       "Archer            0.034       0.043       0.053          -0.031   \n",
       "\n",
       "             2016_var_state  2020_var_state  \\\n",
       "county_name                                   \n",
       "Anderson             -0.005          -0.012   \n",
       "Andrews              -0.001           0.014   \n",
       "Angelina              0.011           0.008   \n",
       "Aransas               0.008           0.017   \n",
       "Archer               -0.005          -0.015   \n",
       "\n",
       "             median_income_2012_2016_16_dollars  median_income_2020_16_dollars  \n",
       "county_name                                                                     \n",
       "Anderson                                  42146                          44871  \n",
       "Andrews                                   70121                          69369  \n",
       "Angelina                                  44185                          47917  \n",
       "Aransas                                   44851                          49153  \n",
       "Archer                                    62407                          59010  "
      ]
     },
     "execution_count": 261,
     "metadata": {},
     "output_type": "execute_result"
    }
   ],
   "source": [
    "jack.head()"
   ]
  },
  {
   "cell_type": "code",
   "execution_count": 262,
   "metadata": {},
   "outputs": [
    {
     "data": {
      "image/png": "[encoded data removed]",
      "text/plain": [
       "<Figure size 720x432 with 1 Axes>"
      ]
     },
     "metadata": {
      "needs_background": "light"
     },
     "output_type": "display_data"
    }
   ],
   "source": [
    "from matplotlib import pyplot\n",
    "\n",
    "fig = pyplot.subplots(figsize=(10,6))\n",
    "\n",
    "w = sns.scatterplot(x='2020_var_state', y='median_income_2020_16_dollars', data=df, size = (100*df['total_2020']), sizes = (3,100));\n",
    "w.set_title('Median Income by Unemployment Variation from TX Avg.');"
   ]
  },
  {
   "cell_type": "markdown",
   "metadata": {},
   "source": [
    "## Plotting National Popular Vote Results vs TX Statewide Results"
   ]
  },
  {
   "cell_type": "code",
   "execution_count": 263,
   "metadata": {},
   "outputs": [],
   "source": [
    "tx = pd.read_csv('./Data Collection/Data/TX_statewide_results.csv')"
   ]
  },
  {
   "cell_type": "code",
   "execution_count": 264,
   "metadata": {},
   "outputs": [],
   "source": [
    "tx.set_index('Year')\n",
    "tx = tx.head(3)"
   ]
  },
  {
   "cell_type": "code",
   "execution_count": 265,
   "metadata": {},
   "outputs": [
    {
     "data": {
      "text/html": [
       "<div>\n",
       "<style scoped>\n",
       "    .dataframe tbody tr th:only-of-type {\n",
       "        vertical-align: middle;\n",
       "    }\n",
       "\n",
       "    .dataframe tbody tr th {\n",
       "        vertical-align: top;\n",
       "    }\n",
       "\n",
       "    .dataframe thead th {\n",
       "        text-align: right;\n",
       "    }\n",
       "</style>\n",
       "<table border=\"1\" class=\"dataframe\">\n",
       "  <thead>\n",
       "    <tr style=\"text-align: right;\">\n",
       "      <th></th>\n",
       "      <th>Year</th>\n",
       "      <th>Winner (nationally)</th>\n",
       "      <th>Votes</th>\n",
       "      <th>Percent</th>\n",
       "      <th>Runner-up (nationally)</th>\n",
       "      <th>Votes.1</th>\n",
       "      <th>Percent.1</th>\n",
       "    </tr>\n",
       "  </thead>\n",
       "  <tbody>\n",
       "    <tr>\n",
       "      <th>0</th>\n",
       "      <td>2020.0</td>\n",
       "      <td>Joe Biden</td>\n",
       "      <td>5235216.0</td>\n",
       "      <td>46.42</td>\n",
       "      <td>Donald Trump</td>\n",
       "      <td>5873085.0</td>\n",
       "      <td>52.07</td>\n",
       "    </tr>\n",
       "    <tr>\n",
       "      <th>1</th>\n",
       "      <td>2016.0</td>\n",
       "      <td>Donald Trump</td>\n",
       "      <td>4685047.0</td>\n",
       "      <td>52.10</td>\n",
       "      <td>Hillary Clinton</td>\n",
       "      <td>3877868.0</td>\n",
       "      <td>43.12</td>\n",
       "    </tr>\n",
       "    <tr>\n",
       "      <th>2</th>\n",
       "      <td>2012.0</td>\n",
       "      <td>Barack Obama</td>\n",
       "      <td>3308124.0</td>\n",
       "      <td>41.38</td>\n",
       "      <td>Mitt Romney</td>\n",
       "      <td>4569843.0</td>\n",
       "      <td>57.17</td>\n",
       "    </tr>\n",
       "  </tbody>\n",
       "</table>\n",
       "</div>"
      ],
      "text/plain": [
       "     Year Winner (nationally)      Votes  Percent Runner-up (nationally)  \\\n",
       "0  2020.0           Joe Biden  5235216.0    46.42           Donald Trump   \n",
       "1  2016.0        Donald Trump  4685047.0    52.10        Hillary Clinton   \n",
       "2  2012.0        Barack Obama  3308124.0    41.38            Mitt Romney   \n",
       "\n",
       "     Votes.1  Percent.1  \n",
       "0  5873085.0      52.07  \n",
       "1  3877868.0      43.12  \n",
       "2  4569843.0      57.17  "
      ]
     },
     "execution_count": 265,
     "metadata": {},
     "output_type": "execute_result"
    }
   ],
   "source": [
    "tx"
   ]
  },
  {
   "cell_type": "code",
   "execution_count": 266,
   "metadata": {},
   "outputs": [
    {
     "data": {
      "text/html": [
       "<div>\n",
       "<style scoped>\n",
       "    .dataframe tbody tr th:only-of-type {\n",
       "        vertical-align: middle;\n",
       "    }\n",
       "\n",
       "    .dataframe tbody tr th {\n",
       "        vertical-align: top;\n",
       "    }\n",
       "\n",
       "    .dataframe thead th {\n",
       "        text-align: right;\n",
       "    }\n",
       "</style>\n",
       "<table border=\"1\" class=\"dataframe\">\n",
       "  <thead>\n",
       "    <tr style=\"text-align: right;\">\n",
       "      <th></th>\n",
       "      <th>Year</th>\n",
       "      <th>Winner (nationally)</th>\n",
       "      <th>Votes</th>\n",
       "      <th>Percent</th>\n",
       "      <th>Runner-up (nationally)</th>\n",
       "      <th>Votes.1</th>\n",
       "      <th>Percent.1</th>\n",
       "      <th>margin</th>\n",
       "    </tr>\n",
       "  </thead>\n",
       "  <tbody>\n",
       "    <tr>\n",
       "      <th>0</th>\n",
       "      <td>2020.0</td>\n",
       "      <td>Joe Biden</td>\n",
       "      <td>5235216.0</td>\n",
       "      <td>46.42</td>\n",
       "      <td>Donald Trump</td>\n",
       "      <td>5873085.0</td>\n",
       "      <td>52.07</td>\n",
       "      <td>-5.65</td>\n",
       "    </tr>\n",
       "    <tr>\n",
       "      <th>1</th>\n",
       "      <td>2016.0</td>\n",
       "      <td>Donald Trump</td>\n",
       "      <td>4685047.0</td>\n",
       "      <td>52.10</td>\n",
       "      <td>Hillary Clinton</td>\n",
       "      <td>3877868.0</td>\n",
       "      <td>43.12</td>\n",
       "      <td>8.98</td>\n",
       "    </tr>\n",
       "    <tr>\n",
       "      <th>2</th>\n",
       "      <td>2012.0</td>\n",
       "      <td>Barack Obama</td>\n",
       "      <td>3308124.0</td>\n",
       "      <td>41.38</td>\n",
       "      <td>Mitt Romney</td>\n",
       "      <td>4569843.0</td>\n",
       "      <td>57.17</td>\n",
       "      <td>-15.79</td>\n",
       "    </tr>\n",
       "  </tbody>\n",
       "</table>\n",
       "</div>"
      ],
      "text/plain": [
       "     Year Winner (nationally)      Votes  Percent Runner-up (nationally)  \\\n",
       "0  2020.0           Joe Biden  5235216.0    46.42           Donald Trump   \n",
       "1  2016.0        Donald Trump  4685047.0    52.10        Hillary Clinton   \n",
       "2  2012.0        Barack Obama  3308124.0    41.38            Mitt Romney   \n",
       "\n",
       "     Votes.1  Percent.1  margin  \n",
       "0  5873085.0      52.07   -5.65  \n",
       "1  3877868.0      43.12    8.98  \n",
       "2  4569843.0      57.17  -15.79  "
      ]
     },
     "execution_count": 266,
     "metadata": {},
     "output_type": "execute_result"
    }
   ],
   "source": [
    "tx['margin'] = tx['Percent'] - tx['Percent.1']\n",
    "tx"
   ]
  },
  {
   "cell_type": "code",
   "execution_count": 267,
   "metadata": {},
   "outputs": [],
   "source": [
    "natl = pd.read_csv('./Data Collection/Data/National_Popular_vote.csv')"
   ]
  },
  {
   "cell_type": "code",
   "execution_count": 268,
   "metadata": {},
   "outputs": [],
   "source": [
    "natl = natl.tail(3)"
   ]
  },
  {
   "cell_type": "code",
   "execution_count": 269,
   "metadata": {},
   "outputs": [
    {
     "data": {
      "text/html": [
       "<div>\n",
       "<style scoped>\n",
       "    .dataframe tbody tr th:only-of-type {\n",
       "        vertical-align: middle;\n",
       "    }\n",
       "\n",
       "    .dataframe tbody tr th {\n",
       "        vertical-align: top;\n",
       "    }\n",
       "\n",
       "    .dataframe thead th {\n",
       "        text-align: right;\n",
       "    }\n",
       "</style>\n",
       "<table border=\"1\" class=\"dataframe\">\n",
       "  <thead>\n",
       "    <tr style=\"text-align: right;\">\n",
       "      <th></th>\n",
       "      <th>Year</th>\n",
       "      <th>Winner &amp; party</th>\n",
       "      <th>Popular vote</th>\n",
       "      <th>Margin</th>\n",
       "    </tr>\n",
       "  </thead>\n",
       "  <tbody>\n",
       "    <tr>\n",
       "      <th>56</th>\n",
       "      <td>2012</td>\n",
       "      <td>Barack Obama</td>\n",
       "      <td>0.5106</td>\n",
       "      <td>0.0386</td>\n",
       "    </tr>\n",
       "    <tr>\n",
       "      <th>57</th>\n",
       "      <td>2016</td>\n",
       "      <td>Donald Trump</td>\n",
       "      <td>0.4609</td>\n",
       "      <td>-0.0209</td>\n",
       "    </tr>\n",
       "    <tr>\n",
       "      <th>58</th>\n",
       "      <td>2020</td>\n",
       "      <td>Joe Biden</td>\n",
       "      <td>0.5131</td>\n",
       "      <td>0.0445</td>\n",
       "    </tr>\n",
       "  </tbody>\n",
       "</table>\n",
       "</div>"
      ],
      "text/plain": [
       "    Year Winner & party  Popular vote   Margin\n",
       "56  2012   Barack Obama        0.5106   0.0386\n",
       "57  2016   Donald Trump        0.4609  -0.0209\n",
       "58  2020      Joe Biden        0.5131   0.0445"
      ]
     },
     "execution_count": 269,
     "metadata": {},
     "output_type": "execute_result"
    }
   ],
   "source": [
    "natl.head()"
   ]
  },
  {
   "cell_type": "code",
   "execution_count": 270,
   "metadata": {},
   "outputs": [],
   "source": [
    "natl['Natl Pop Vote Margin'] = pd.to_numeric(natl['Margin'])"
   ]
  },
  {
   "cell_type": "code",
   "execution_count": 271,
   "metadata": {},
   "outputs": [],
   "source": [
    "natl['Natl Pop Vote Margin'] = natl['Natl Pop Vote Margin'] * 100"
   ]
  },
  {
   "cell_type": "code",
   "execution_count": 272,
   "metadata": {},
   "outputs": [],
   "source": [
    "natl['TX Pop Vote Margin'] = tx['margin']"
   ]
  },
  {
   "cell_type": "code",
   "execution_count": 273,
   "metadata": {},
   "outputs": [
    {
     "name": "stderr",
     "output_type": "stream",
     "text": [
      "C:\\Users\\theja\\anaconda3\\lib\\site-packages\\pandas\\core\\indexing.py:670: SettingWithCopyWarning: \n",
      "A value is trying to be set on a copy of a slice from a DataFrame\n",
      "\n",
      "See the caveats in the documentation: https://pandas.pydata.org/pandas-docs/stable/user_guide/indexing.html#returning-a-view-versus-a-copy\n",
      "  iloc._setitem_with_indexer(indexer, value)\n"
     ]
    }
   ],
   "source": [
    "for i in range(3):\n",
    "    natl['TX Pop Vote Margin'].iloc[i] = tx['margin'][2-i];"
   ]
  },
  {
   "cell_type": "code",
   "execution_count": 299,
   "metadata": {},
   "outputs": [],
   "source": [
    "natl['TX Repub. Margin vs Natl'] = -(abs(natl['Natl Pop Vote Margin'])+abs(natl['TX Pop Vote Margin']))\n"
   ]
  },
  {
   "cell_type": "code",
   "execution_count": 275,
   "metadata": {},
   "outputs": [],
   "source": [
    "natl.set_index('Year', inplace = True)"
   ]
  },
  {
   "cell_type": "code",
   "execution_count": 309,
   "metadata": {},
   "outputs": [],
   "source": [
    "natl['Natl Pop Vote Margin'] = abs(natl['Natl Pop Vote Margin'])\n",
    "natl['TX Pop Vote Margin'] = -abs(natl['TX Pop Vote Margin'])"
   ]
  },
  {
   "cell_type": "code",
   "execution_count": 315,
   "metadata": {},
   "outputs": [
    {
     "data": {
      "text/plain": [
       "Text(0, 0.5, 'Democratic Margin')"
      ]
     },
     "execution_count": 315,
     "metadata": {},
     "output_type": "execute_result"
    },
    {
     "data": {
      "image/png": "[encoded data removed]",
      "text/plain": [
       "<Figure size 720x504 with 1 Axes>"
      ]
     },
     "metadata": {
      "needs_background": "light"
     },
     "output_type": "display_data"
    }
   ],
   "source": [
    "#fig=plt.figure(figsize=(10,10))\n",
    "natl[['Natl Pop Vote Margin', 'TX Pop Vote Margin', 'TX Repub. Margin vs Natl']].plot(kind='bar', legend=True, grid = False, figsize = (10,7), fontsize = 20, colormap = 'winter', ylabel = 'Democratic Margin', rot = 0)\n",
    "plt.xlabel('Year', fontsize=24)\n",
    "plt.ylabel('Democratic Margin', fontsize = 24)"
   ]
  },
  {
   "cell_type": "code",
   "execution_count": 278,
   "metadata": {},
   "outputs": [],
   "source": [
    "natl.drop(columns = ['Margin'], inplace = True)"
   ]
  },
  {
   "cell_type": "code",
   "execution_count": 279,
   "metadata": {},
   "outputs": [
    {
     "data": {
      "text/html": [
       "<div>\n",
       "<style scoped>\n",
       "    .dataframe tbody tr th:only-of-type {\n",
       "        vertical-align: middle;\n",
       "    }\n",
       "\n",
       "    .dataframe tbody tr th {\n",
       "        vertical-align: top;\n",
       "    }\n",
       "\n",
       "    .dataframe thead th {\n",
       "        text-align: right;\n",
       "    }\n",
       "</style>\n",
       "<table border=\"1\" class=\"dataframe\">\n",
       "  <thead>\n",
       "    <tr style=\"text-align: right;\">\n",
       "      <th></th>\n",
       "      <th>Winner &amp; party</th>\n",
       "      <th>Popular vote</th>\n",
       "      <th>Natl Pop Vote Margin</th>\n",
       "      <th>TX Pop Vote Margin</th>\n",
       "      <th>TX Repub. Margin vs Natl</th>\n",
       "    </tr>\n",
       "    <tr>\n",
       "      <th>Year</th>\n",
       "      <th></th>\n",
       "      <th></th>\n",
       "      <th></th>\n",
       "      <th></th>\n",
       "      <th></th>\n",
       "    </tr>\n",
       "  </thead>\n",
       "  <tbody>\n",
       "    <tr>\n",
       "      <th>2012</th>\n",
       "      <td>Barack Obama</td>\n",
       "      <td>0.5106</td>\n",
       "      <td>3.86</td>\n",
       "      <td>-15.79</td>\n",
       "      <td>19.65</td>\n",
       "    </tr>\n",
       "    <tr>\n",
       "      <th>2016</th>\n",
       "      <td>Donald Trump</td>\n",
       "      <td>0.4609</td>\n",
       "      <td>-2.09</td>\n",
       "      <td>8.98</td>\n",
       "      <td>11.07</td>\n",
       "    </tr>\n",
       "    <tr>\n",
       "      <th>2020</th>\n",
       "      <td>Joe Biden</td>\n",
       "      <td>0.5131</td>\n",
       "      <td>4.45</td>\n",
       "      <td>-5.65</td>\n",
       "      <td>10.10</td>\n",
       "    </tr>\n",
       "  </tbody>\n",
       "</table>\n",
       "</div>"
      ],
      "text/plain": [
       "     Winner & party  Popular vote  Natl Pop Vote Margin  TX Pop Vote Margin  \\\n",
       "Year                                                                          \n",
       "2012   Barack Obama        0.5106                  3.86              -15.79   \n",
       "2016   Donald Trump        0.4609                 -2.09                8.98   \n",
       "2020      Joe Biden        0.5131                  4.45               -5.65   \n",
       "\n",
       "      TX Repub. Margin vs Natl  \n",
       "Year                            \n",
       "2012                     19.65  \n",
       "2016                     11.07  \n",
       "2020                     10.10  "
      ]
     },
     "execution_count": 279,
     "metadata": {},
     "output_type": "execute_result"
    }
   ],
   "source": [
    "natl"
   ]
  },
  {
   "cell_type": "code",
   "execution_count": 295,
   "metadata": {},
   "outputs": [
    {
     "data": {
      "text/plain": [
       "0.3292350393700787"
      ]
     },
     "execution_count": 295,
     "metadata": {},
     "output_type": "execute_result"
    }
   ],
   "source": [
    "df['hispanic_total_2012'].mean()"
   ]
  },
  {
   "cell_type": "code",
   "execution_count": 294,
   "metadata": {},
   "outputs": [
    {
     "data": {
      "text/plain": [
       "0.34753503937007896"
      ]
     },
     "execution_count": 294,
     "metadata": {},
     "output_type": "execute_result"
    }
   ],
   "source": [
    "df['hispanic_total_2016'].mean()"
   ]
  },
  {
   "cell_type": "code",
   "execution_count": 292,
   "metadata": {},
   "outputs": [
    {
     "data": {
      "text/plain": [
       "0.3616066929133859"
      ]
     },
     "execution_count": 292,
     "metadata": {},
     "output_type": "execute_result"
    }
   ],
   "source": [
    "df['hispanic_total_2020'].mean()"
   ]
  },
  {
   "cell_type": "code",
   "execution_count": null,
   "metadata": {},
   "outputs": [],
   "source": []
  }
 ],
 "metadata": {
  "kernelspec": {
   "display_name": "Python 3",
   "language": "python",
   "name": "python3"
  },
  "language_info": {
   "codemirror_mode": {
    "name": "ipython",
    "version": 3
   },
   "file_extension": ".py",
   "mimetype": "text/x-python",
   "name": "python",
   "nbconvert_exporter": "python",
   "pygments_lexer": "ipython3",
   "version": "3.8.5"
  }
 },
 "nbformat": 4,
 "nbformat_minor": 5
}

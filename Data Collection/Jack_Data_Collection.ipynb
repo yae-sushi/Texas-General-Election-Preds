{
 "cells": [
  {
   "cell_type": "code",
   "execution_count": 84,
   "metadata": {},
   "outputs": [],
   "source": [
    "import pandas as pd"
   ]
  },
  {
   "cell_type": "markdown",
   "metadata": {},
   "source": [
    "## Prepare Median Income Data"
   ]
  },
  {
   "cell_type": "code",
   "execution_count": 85,
   "metadata": {},
   "outputs": [],
   "source": [
    "income = pd.read_csv('./Data/median_income.csv')"
   ]
  },
  {
   "cell_type": "code",
   "execution_count": 86,
   "metadata": {},
   "outputs": [
    {
     "data": {
      "text/html": [
       "<div>\n",
       "<style scoped>\n",
       "    .dataframe tbody tr th:only-of-type {\n",
       "        vertical-align: middle;\n",
       "    }\n",
       "\n",
       "    .dataframe tbody tr th {\n",
       "        vertical-align: top;\n",
       "    }\n",
       "\n",
       "    .dataframe thead th {\n",
       "        text-align: right;\n",
       "    }\n",
       "</style>\n",
       "<table border=\"1\" class=\"dataframe\">\n",
       "  <thead>\n",
       "    <tr style=\"text-align: right;\">\n",
       "      <th></th>\n",
       "      <th>county_name</th>\n",
       "      <th>median_income_2012_2016_16_dollars</th>\n",
       "      <th>median_income_2020_16_dollars</th>\n",
       "    </tr>\n",
       "  </thead>\n",
       "  <tbody>\n",
       "    <tr>\n",
       "      <th>0</th>\n",
       "      <td>Anderson</td>\n",
       "      <td>42146</td>\n",
       "      <td>44871</td>\n",
       "    </tr>\n",
       "    <tr>\n",
       "      <th>1</th>\n",
       "      <td>Andrews</td>\n",
       "      <td>70121</td>\n",
       "      <td>69369</td>\n",
       "    </tr>\n",
       "    <tr>\n",
       "      <th>2</th>\n",
       "      <td>Angelina</td>\n",
       "      <td>44185</td>\n",
       "      <td>47917</td>\n",
       "    </tr>\n",
       "    <tr>\n",
       "      <th>3</th>\n",
       "      <td>Aransas</td>\n",
       "      <td>44851</td>\n",
       "      <td>49153</td>\n",
       "    </tr>\n",
       "    <tr>\n",
       "      <th>4</th>\n",
       "      <td>Archer</td>\n",
       "      <td>62407</td>\n",
       "      <td>59010</td>\n",
       "    </tr>\n",
       "  </tbody>\n",
       "</table>\n",
       "</div>"
      ],
      "text/plain": [
       "  county_name  median_income_2012_2016_16_dollars  \\\n",
       "0    Anderson                               42146   \n",
       "1     Andrews                               70121   \n",
       "2    Angelina                               44185   \n",
       "3     Aransas                               44851   \n",
       "4      Archer                               62407   \n",
       "\n",
       "   median_income_2020_16_dollars  \n",
       "0                          44871  \n",
       "1                          69369  \n",
       "2                          47917  \n",
       "3                          49153  \n",
       "4                          59010  "
      ]
     },
     "execution_count": 86,
     "metadata": {},
     "output_type": "execute_result"
    }
   ],
   "source": [
    "income.head()"
   ]
  },
  {
   "cell_type": "markdown",
   "metadata": {},
   "source": [
    "## Prepare unemployment data"
   ]
  },
  {
   "cell_type": "code",
   "execution_count": 87,
   "metadata": {},
   "outputs": [],
   "source": [
    "unemp = pd.read_csv('./Data/unemployment_rate_by_county.csv')"
   ]
  },
  {
   "cell_type": "code",
   "execution_count": 88,
   "metadata": {},
   "outputs": [
    {
     "data": {
      "text/html": [
       "<div>\n",
       "<style scoped>\n",
       "    .dataframe tbody tr th:only-of-type {\n",
       "        vertical-align: middle;\n",
       "    }\n",
       "\n",
       "    .dataframe tbody tr th {\n",
       "        vertical-align: top;\n",
       "    }\n",
       "\n",
       "    .dataframe thead th {\n",
       "        text-align: right;\n",
       "    }\n",
       "</style>\n",
       "<table border=\"1\" class=\"dataframe\">\n",
       "  <thead>\n",
       "    <tr style=\"text-align: right;\">\n",
       "      <th></th>\n",
       "      <th>county_id</th>\n",
       "      <th>county_name</th>\n",
       "      <th>2012</th>\n",
       "      <th>2016</th>\n",
       "      <th>2017</th>\n",
       "      <th>2018</th>\n",
       "      <th>2019</th>\n",
       "      <th>2020</th>\n",
       "    </tr>\n",
       "  </thead>\n",
       "  <tbody>\n",
       "    <tr>\n",
       "      <th>0</th>\n",
       "      <td>1</td>\n",
       "      <td>Anderson</td>\n",
       "      <td>0.036</td>\n",
       "      <td>0.043</td>\n",
       "      <td>0.037</td>\n",
       "      <td>0.031</td>\n",
       "      <td>0.029</td>\n",
       "      <td>0.056</td>\n",
       "    </tr>\n",
       "    <tr>\n",
       "      <th>1</th>\n",
       "      <td>2</td>\n",
       "      <td>Andrews</td>\n",
       "      <td>0.031</td>\n",
       "      <td>0.047</td>\n",
       "      <td>0.031</td>\n",
       "      <td>0.024</td>\n",
       "      <td>0.023</td>\n",
       "      <td>0.082</td>\n",
       "    </tr>\n",
       "    <tr>\n",
       "      <th>2</th>\n",
       "      <td>3</td>\n",
       "      <td>Angelina</td>\n",
       "      <td>0.051</td>\n",
       "      <td>0.059</td>\n",
       "      <td>0.051</td>\n",
       "      <td>0.044</td>\n",
       "      <td>0.040</td>\n",
       "      <td>0.076</td>\n",
       "    </tr>\n",
       "    <tr>\n",
       "      <th>3</th>\n",
       "      <td>4</td>\n",
       "      <td>Aransas</td>\n",
       "      <td>0.068</td>\n",
       "      <td>0.056</td>\n",
       "      <td>0.069</td>\n",
       "      <td>0.060</td>\n",
       "      <td>0.043</td>\n",
       "      <td>0.085</td>\n",
       "    </tr>\n",
       "    <tr>\n",
       "      <th>4</th>\n",
       "      <td>5</td>\n",
       "      <td>Archer</td>\n",
       "      <td>0.034</td>\n",
       "      <td>0.043</td>\n",
       "      <td>0.034</td>\n",
       "      <td>0.031</td>\n",
       "      <td>0.028</td>\n",
       "      <td>0.053</td>\n",
       "    </tr>\n",
       "  </tbody>\n",
       "</table>\n",
       "</div>"
      ],
      "text/plain": [
       "   county_id county_name   2012   2016   2017   2018   2019   2020\n",
       "0          1    Anderson  0.036  0.043  0.037  0.031  0.029  0.056\n",
       "1          2     Andrews  0.031  0.047  0.031  0.024  0.023  0.082\n",
       "2          3    Angelina  0.051  0.059  0.051  0.044  0.040  0.076\n",
       "3          4     Aransas  0.068  0.056  0.069  0.060  0.043  0.085\n",
       "4          5      Archer  0.034  0.043  0.034  0.031  0.028  0.053"
      ]
     },
     "execution_count": 88,
     "metadata": {},
     "output_type": "execute_result"
    }
   ],
   "source": [
    "unemp.head()"
   ]
  },
  {
   "cell_type": "code",
   "execution_count": 89,
   "metadata": {},
   "outputs": [],
   "source": [
    "unemp.drop(columns = ['2017', '2018', '2019', 'county_id'], inplace = True)"
   ]
  },
  {
   "cell_type": "code",
   "execution_count": 90,
   "metadata": {},
   "outputs": [],
   "source": [
    "unemp['2012_unemp'] = unemp['2012'].apply(lambda x: round(x,6))\n",
    "unemp['2016_unemp'] = unemp['2016'].apply(lambda x: round(x,6))\n",
    "unemp['2020_unemp'] = unemp['2020'].apply(lambda x: round(x,6))\n",
    "\n",
    "unemp.drop(columns = ['2012', '2016', '2020'], inplace = True)"
   ]
  },
  {
   "cell_type": "code",
   "execution_count": 91,
   "metadata": {},
   "outputs": [],
   "source": [
    "#we'll use the statewide unemployment data to create a column for the difference between a counties unemployment rate and the statewide rate\n",
    "state_unemp = pd.read_csv('./Data/StatewideEnemployment.csv', index_col = 'DATE')\n",
    "\n",
    "unemp_2012 = state_unemp.loc['2013-01-01']/100\n",
    "unemp_2016 = state_unemp.loc['2017-01-01']/100\n",
    "unemp_2020 = state_unemp.loc['2021-01-01']/100\n",
    "\n",
    "unemp['2012_var_state'] = unemp['2012_unemp'].apply(lambda x: round(x-unemp_2012,6))\n",
    "unemp['2016_var_state'] = unemp['2016_unemp'].apply(lambda x: round(x-unemp_2016,6))\n",
    "unemp['2020_var_state'] = unemp['2020_unemp'].apply(lambda x: round(x-unemp_2020,6))"
   ]
  },
  {
   "cell_type": "code",
   "execution_count": 92,
   "metadata": {},
   "outputs": [
    {
     "data": {
      "text/html": [
       "<div>\n",
       "<style scoped>\n",
       "    .dataframe tbody tr th:only-of-type {\n",
       "        vertical-align: middle;\n",
       "    }\n",
       "\n",
       "    .dataframe tbody tr th {\n",
       "        vertical-align: top;\n",
       "    }\n",
       "\n",
       "    .dataframe thead th {\n",
       "        text-align: right;\n",
       "    }\n",
       "</style>\n",
       "<table border=\"1\" class=\"dataframe\">\n",
       "  <thead>\n",
       "    <tr style=\"text-align: right;\">\n",
       "      <th></th>\n",
       "      <th>county_name</th>\n",
       "      <th>2012_unemp</th>\n",
       "      <th>2016_unemp</th>\n",
       "      <th>2020_unemp</th>\n",
       "      <th>2012_var_state</th>\n",
       "      <th>2016_var_state</th>\n",
       "      <th>2020_var_state</th>\n",
       "    </tr>\n",
       "  </thead>\n",
       "  <tbody>\n",
       "    <tr>\n",
       "      <th>0</th>\n",
       "      <td>Anderson</td>\n",
       "      <td>0.036</td>\n",
       "      <td>0.043</td>\n",
       "      <td>0.056</td>\n",
       "      <td>-0.029</td>\n",
       "      <td>-0.005</td>\n",
       "      <td>-0.012</td>\n",
       "    </tr>\n",
       "    <tr>\n",
       "      <th>1</th>\n",
       "      <td>Andrews</td>\n",
       "      <td>0.031</td>\n",
       "      <td>0.047</td>\n",
       "      <td>0.082</td>\n",
       "      <td>-0.034</td>\n",
       "      <td>-0.001</td>\n",
       "      <td>0.014</td>\n",
       "    </tr>\n",
       "    <tr>\n",
       "      <th>2</th>\n",
       "      <td>Angelina</td>\n",
       "      <td>0.051</td>\n",
       "      <td>0.059</td>\n",
       "      <td>0.076</td>\n",
       "      <td>-0.014</td>\n",
       "      <td>0.011</td>\n",
       "      <td>0.008</td>\n",
       "    </tr>\n",
       "    <tr>\n",
       "      <th>3</th>\n",
       "      <td>Aransas</td>\n",
       "      <td>0.068</td>\n",
       "      <td>0.056</td>\n",
       "      <td>0.085</td>\n",
       "      <td>0.003</td>\n",
       "      <td>0.008</td>\n",
       "      <td>0.017</td>\n",
       "    </tr>\n",
       "    <tr>\n",
       "      <th>4</th>\n",
       "      <td>Archer</td>\n",
       "      <td>0.034</td>\n",
       "      <td>0.043</td>\n",
       "      <td>0.053</td>\n",
       "      <td>-0.031</td>\n",
       "      <td>-0.005</td>\n",
       "      <td>-0.015</td>\n",
       "    </tr>\n",
       "  </tbody>\n",
       "</table>\n",
       "</div>"
      ],
      "text/plain": [
       "  county_name  2012_unemp  2016_unemp  2020_unemp  2012_var_state  \\\n",
       "0    Anderson       0.036       0.043       0.056          -0.029   \n",
       "1     Andrews       0.031       0.047       0.082          -0.034   \n",
       "2    Angelina       0.051       0.059       0.076          -0.014   \n",
       "3     Aransas       0.068       0.056       0.085           0.003   \n",
       "4      Archer       0.034       0.043       0.053          -0.031   \n",
       "\n",
       "   2016_var_state  2020_var_state  \n",
       "0          -0.005          -0.012  \n",
       "1          -0.001           0.014  \n",
       "2           0.011           0.008  \n",
       "3           0.008           0.017  \n",
       "4          -0.005          -0.015  "
      ]
     },
     "execution_count": 92,
     "metadata": {},
     "output_type": "execute_result"
    }
   ],
   "source": [
    "unemp.head()"
   ]
  },
  {
   "cell_type": "markdown",
   "metadata": {},
   "source": [
    "merge the two dataframes together"
   ]
  },
  {
   "cell_type": "code",
   "execution_count": 93,
   "metadata": {},
   "outputs": [],
   "source": [
    "df = unemp.merge(right = income, how = 'left', on = 'county_name')"
   ]
  },
  {
   "cell_type": "code",
   "execution_count": 94,
   "metadata": {},
   "outputs": [
    {
     "data": {
      "text/html": [
       "<div>\n",
       "<style scoped>\n",
       "    .dataframe tbody tr th:only-of-type {\n",
       "        vertical-align: middle;\n",
       "    }\n",
       "\n",
       "    .dataframe tbody tr th {\n",
       "        vertical-align: top;\n",
       "    }\n",
       "\n",
       "    .dataframe thead th {\n",
       "        text-align: right;\n",
       "    }\n",
       "</style>\n",
       "<table border=\"1\" class=\"dataframe\">\n",
       "  <thead>\n",
       "    <tr style=\"text-align: right;\">\n",
       "      <th></th>\n",
       "      <th>county_name</th>\n",
       "      <th>2012_unemp</th>\n",
       "      <th>2016_unemp</th>\n",
       "      <th>2020_unemp</th>\n",
       "      <th>2012_var_state</th>\n",
       "      <th>2016_var_state</th>\n",
       "      <th>2020_var_state</th>\n",
       "      <th>median_income_2012_2016_16_dollars</th>\n",
       "      <th>median_income_2020_16_dollars</th>\n",
       "    </tr>\n",
       "  </thead>\n",
       "  <tbody>\n",
       "    <tr>\n",
       "      <th>0</th>\n",
       "      <td>Anderson</td>\n",
       "      <td>0.036</td>\n",
       "      <td>0.043</td>\n",
       "      <td>0.056</td>\n",
       "      <td>-0.029</td>\n",
       "      <td>-0.005</td>\n",
       "      <td>-0.012</td>\n",
       "      <td>42146</td>\n",
       "      <td>44871</td>\n",
       "    </tr>\n",
       "    <tr>\n",
       "      <th>1</th>\n",
       "      <td>Andrews</td>\n",
       "      <td>0.031</td>\n",
       "      <td>0.047</td>\n",
       "      <td>0.082</td>\n",
       "      <td>-0.034</td>\n",
       "      <td>-0.001</td>\n",
       "      <td>0.014</td>\n",
       "      <td>70121</td>\n",
       "      <td>69369</td>\n",
       "    </tr>\n",
       "    <tr>\n",
       "      <th>2</th>\n",
       "      <td>Angelina</td>\n",
       "      <td>0.051</td>\n",
       "      <td>0.059</td>\n",
       "      <td>0.076</td>\n",
       "      <td>-0.014</td>\n",
       "      <td>0.011</td>\n",
       "      <td>0.008</td>\n",
       "      <td>44185</td>\n",
       "      <td>47917</td>\n",
       "    </tr>\n",
       "    <tr>\n",
       "      <th>3</th>\n",
       "      <td>Aransas</td>\n",
       "      <td>0.068</td>\n",
       "      <td>0.056</td>\n",
       "      <td>0.085</td>\n",
       "      <td>0.003</td>\n",
       "      <td>0.008</td>\n",
       "      <td>0.017</td>\n",
       "      <td>44851</td>\n",
       "      <td>49153</td>\n",
       "    </tr>\n",
       "    <tr>\n",
       "      <th>4</th>\n",
       "      <td>Archer</td>\n",
       "      <td>0.034</td>\n",
       "      <td>0.043</td>\n",
       "      <td>0.053</td>\n",
       "      <td>-0.031</td>\n",
       "      <td>-0.005</td>\n",
       "      <td>-0.015</td>\n",
       "      <td>62407</td>\n",
       "      <td>59010</td>\n",
       "    </tr>\n",
       "  </tbody>\n",
       "</table>\n",
       "</div>"
      ],
      "text/plain": [
       "  county_name  2012_unemp  2016_unemp  2020_unemp  2012_var_state  \\\n",
       "0    Anderson       0.036       0.043       0.056          -0.029   \n",
       "1     Andrews       0.031       0.047       0.082          -0.034   \n",
       "2    Angelina       0.051       0.059       0.076          -0.014   \n",
       "3     Aransas       0.068       0.056       0.085           0.003   \n",
       "4      Archer       0.034       0.043       0.053          -0.031   \n",
       "\n",
       "   2016_var_state  2020_var_state  median_income_2012_2016_16_dollars  \\\n",
       "0          -0.005          -0.012                               42146   \n",
       "1          -0.001           0.014                               70121   \n",
       "2           0.011           0.008                               44185   \n",
       "3           0.008           0.017                               44851   \n",
       "4          -0.005          -0.015                               62407   \n",
       "\n",
       "   median_income_2020_16_dollars  \n",
       "0                          44871  \n",
       "1                          69369  \n",
       "2                          47917  \n",
       "3                          49153  \n",
       "4                          59010  "
      ]
     },
     "execution_count": 94,
     "metadata": {},
     "output_type": "execute_result"
    }
   ],
   "source": [
    "df.head()"
   ]
  },
  {
   "cell_type": "code",
   "execution_count": 95,
   "metadata": {},
   "outputs": [
    {
     "data": {
      "text/plain": [
       "(254, 9)"
      ]
     },
     "execution_count": 95,
     "metadata": {},
     "output_type": "execute_result"
    }
   ],
   "source": [
    "#check we still have 254 counties\n",
    "df.shape"
   ]
  },
  {
   "cell_type": "markdown",
   "metadata": {},
   "source": [
    "## Prepare demographic data"
   ]
  },
  {
   "cell_type": "code",
   "execution_count": 96,
   "metadata": {},
   "outputs": [],
   "source": [
    "demo_12 = pd.read_csv('./Data/2012_demo.csv')\n",
    "demo_16 = pd.read_csv('./Data/2016_demo.csv')\n",
    "demo_19 = pd.read_csv('./Data/2019_demo.csv')"
   ]
  },
  {
   "cell_type": "code",
   "execution_count": 97,
   "metadata": {},
   "outputs": [],
   "source": [
    "def clean_demo_df(df, yr):\n",
    "    df = df[df['Age'] == 'All Ages']\n",
    "    df = df[df['County'] != 'STATE OF TEXAS']\n",
    "    df.reset_index(inplace = True)\n",
    "    df.drop(columns = ['Age', 'FIPS', 'index', 'County'], inplace = True)\n",
    "    cols = df.columns\n",
    "    mydict = {}\n",
    "    for col in cols:\n",
    "        mydict[col] = col + yr\n",
    "    cols = df.columns.drop('Total')\n",
    "    #totals = df['Total']\n",
    "    for col in cols:\n",
    "        df[col] = df[col]/df['Total']\n",
    "        #df[col] = df[col].apply(lambda x: 100* (x/df['Total']))\n",
    "    for col in cols:\n",
    "        df[col] = df[col].apply(lambda x: round(x, 4))\n",
    "    df = df.rename(columns=mydict)\n",
    "    \n",
    "    return df\n",
    "\n",
    "\n",
    "#demo_12 = clean_demo_df(demo_12, '12')\n",
    "#demo_16 = clean_demo_df(demo_16, '16')\n",
    "#demo_19 = clean_demo_df(demo_19, '19')\n"
   ]
  },
  {
   "cell_type": "code",
   "execution_count": 98,
   "metadata": {},
   "outputs": [
    {
     "data": {
      "text/plain": [
       "(22185, 18)"
      ]
     },
     "execution_count": 98,
     "metadata": {},
     "output_type": "execute_result"
    }
   ],
   "source": [
    "demo_12.shape"
   ]
  },
  {
   "cell_type": "code",
   "execution_count": 99,
   "metadata": {},
   "outputs": [],
   "source": [
    "#df = df.merge(right = demo_12, how = 'left', left_index = True, right_index = True)\n",
    "#df = df.merge(right = demo_16, how = 'left', left_index = True, right_index = True)\n",
    "#df = df.merge(right = demo_19, how = 'left', left_index = True, right_index = True)"
   ]
  },
  {
   "cell_type": "code",
   "execution_count": 100,
   "metadata": {},
   "outputs": [
    {
     "data": {
      "text/html": [
       "<div>\n",
       "<style scoped>\n",
       "    .dataframe tbody tr th:only-of-type {\n",
       "        vertical-align: middle;\n",
       "    }\n",
       "\n",
       "    .dataframe tbody tr th {\n",
       "        vertical-align: top;\n",
       "    }\n",
       "\n",
       "    .dataframe thead th {\n",
       "        text-align: right;\n",
       "    }\n",
       "</style>\n",
       "<table border=\"1\" class=\"dataframe\">\n",
       "  <thead>\n",
       "    <tr style=\"text-align: right;\">\n",
       "      <th></th>\n",
       "      <th>county_name</th>\n",
       "      <th>2012_unemp</th>\n",
       "      <th>2016_unemp</th>\n",
       "      <th>2020_unemp</th>\n",
       "      <th>2012_var_state</th>\n",
       "      <th>2016_var_state</th>\n",
       "      <th>2020_var_state</th>\n",
       "      <th>median_income_2012_2016_16_dollars</th>\n",
       "      <th>median_income_2020_16_dollars</th>\n",
       "    </tr>\n",
       "  </thead>\n",
       "  <tbody>\n",
       "    <tr>\n",
       "      <th>0</th>\n",
       "      <td>Anderson</td>\n",
       "      <td>0.036</td>\n",
       "      <td>0.043</td>\n",
       "      <td>0.056</td>\n",
       "      <td>-0.029</td>\n",
       "      <td>-0.005</td>\n",
       "      <td>-0.012</td>\n",
       "      <td>42146</td>\n",
       "      <td>44871</td>\n",
       "    </tr>\n",
       "    <tr>\n",
       "      <th>1</th>\n",
       "      <td>Andrews</td>\n",
       "      <td>0.031</td>\n",
       "      <td>0.047</td>\n",
       "      <td>0.082</td>\n",
       "      <td>-0.034</td>\n",
       "      <td>-0.001</td>\n",
       "      <td>0.014</td>\n",
       "      <td>70121</td>\n",
       "      <td>69369</td>\n",
       "    </tr>\n",
       "    <tr>\n",
       "      <th>2</th>\n",
       "      <td>Angelina</td>\n",
       "      <td>0.051</td>\n",
       "      <td>0.059</td>\n",
       "      <td>0.076</td>\n",
       "      <td>-0.014</td>\n",
       "      <td>0.011</td>\n",
       "      <td>0.008</td>\n",
       "      <td>44185</td>\n",
       "      <td>47917</td>\n",
       "    </tr>\n",
       "    <tr>\n",
       "      <th>3</th>\n",
       "      <td>Aransas</td>\n",
       "      <td>0.068</td>\n",
       "      <td>0.056</td>\n",
       "      <td>0.085</td>\n",
       "      <td>0.003</td>\n",
       "      <td>0.008</td>\n",
       "      <td>0.017</td>\n",
       "      <td>44851</td>\n",
       "      <td>49153</td>\n",
       "    </tr>\n",
       "    <tr>\n",
       "      <th>4</th>\n",
       "      <td>Archer</td>\n",
       "      <td>0.034</td>\n",
       "      <td>0.043</td>\n",
       "      <td>0.053</td>\n",
       "      <td>-0.031</td>\n",
       "      <td>-0.005</td>\n",
       "      <td>-0.015</td>\n",
       "      <td>62407</td>\n",
       "      <td>59010</td>\n",
       "    </tr>\n",
       "  </tbody>\n",
       "</table>\n",
       "</div>"
      ],
      "text/plain": [
       "  county_name  2012_unemp  2016_unemp  2020_unemp  2012_var_state  \\\n",
       "0    Anderson       0.036       0.043       0.056          -0.029   \n",
       "1     Andrews       0.031       0.047       0.082          -0.034   \n",
       "2    Angelina       0.051       0.059       0.076          -0.014   \n",
       "3     Aransas       0.068       0.056       0.085           0.003   \n",
       "4      Archer       0.034       0.043       0.053          -0.031   \n",
       "\n",
       "   2016_var_state  2020_var_state  median_income_2012_2016_16_dollars  \\\n",
       "0          -0.005          -0.012                               42146   \n",
       "1          -0.001           0.014                               70121   \n",
       "2           0.011           0.008                               44185   \n",
       "3           0.008           0.017                               44851   \n",
       "4          -0.005          -0.015                               62407   \n",
       "\n",
       "   median_income_2020_16_dollars  \n",
       "0                          44871  \n",
       "1                          69369  \n",
       "2                          47917  \n",
       "3                          49153  \n",
       "4                          59010  "
      ]
     },
     "execution_count": 100,
     "metadata": {},
     "output_type": "execute_result"
    }
   ],
   "source": [
    "df.head()"
   ]
  },
  {
   "cell_type": "code",
   "execution_count": 101,
   "metadata": {},
   "outputs": [
    {
     "data": {
      "text/plain": [
       "(254, 9)"
      ]
     },
     "execution_count": 101,
     "metadata": {},
     "output_type": "execute_result"
    }
   ],
   "source": [
    "df.shape"
   ]
  },
  {
   "cell_type": "code",
   "execution_count": 102,
   "metadata": {},
   "outputs": [],
   "source": [
    "df.to_csv('Jacks_df.csv')"
   ]
  }
 ],
 "metadata": {
  "kernelspec": {
   "display_name": "Python 3",
   "language": "python",
   "name": "python3"
  },
  "language_info": {
   "codemirror_mode": {
    "name": "ipython",
    "version": 3
   },
   "file_extension": ".py",
   "mimetype": "text/x-python",
   "name": "python",
   "nbconvert_exporter": "python",
   "pygments_lexer": "ipython3",
   "version": "3.8.5"
  }
 },
 "nbformat": 4,
 "nbformat_minor": 4
}

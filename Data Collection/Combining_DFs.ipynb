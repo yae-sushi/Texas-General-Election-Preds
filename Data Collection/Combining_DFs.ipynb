{
 "cells": [
  {
   "cell_type": "markdown",
   "metadata": {},
   "source": [
    "# Combining dataframes from group members into one dataframe"
   ]
  },
  {
   "cell_type": "code",
   "execution_count": 1,
   "metadata": {},
   "outputs": [],
   "source": [
    "# imports\n",
    "import pandas as pd\n",
    "import numpy as np"
   ]
  },
  {
   "cell_type": "markdown",
   "metadata": {},
   "source": [
    "----"
   ]
  },
  {
   "cell_type": "markdown",
   "metadata": {},
   "source": [
    "## Jack's Data - Income, Employment"
   ]
  },
  {
   "cell_type": "code",
   "execution_count": 2,
   "metadata": {},
   "outputs": [],
   "source": [
    "# read in Jack's df and set index\n",
    "jack = pd.read_csv('Jacks_df.csv', index_col = 'Unnamed: 0')\n",
    "jack['county'] = jack['county_name'].apply(lambda x: x.lower() + ' county')\n",
    "index = jack['county']\n",
    "jack.drop(columns = 'county_name', inplace = True)\n",
    "jack.set_index('county', inplace = True)"
   ]
  },
  {
   "cell_type": "markdown",
   "metadata": {},
   "source": [
    "---"
   ]
  },
  {
   "cell_type": "markdown",
   "metadata": {},
   "source": [
    "## Chloe's Data - Voting Registration and Turnout Numbers"
   ]
  },
  {
   "cell_type": "code",
   "execution_count": 3,
   "metadata": {},
   "outputs": [],
   "source": [
    "# read in Chloe's df and set index\n",
    "voting_nums = pd.read_csv('./data/voting_numbers.csv', index_col = 'Unnamed: 0')\n",
    "voting_nums.drop_duplicates(inplace = True)\n",
    "voting_nums.set_index('county', inplace = True)"
   ]
  },
  {
   "cell_type": "code",
   "execution_count": 4,
   "metadata": {},
   "outputs": [],
   "source": [
    "# convert columns to numeric\n",
    "def percent_to_float(percent):\n",
    "    \"\"\"\n",
    "    Converts string percentage to decimal proportion\n",
    "    percent - string of number ending in \"%\" to convert to float\n",
    "    \"\"\"\n",
    "    return (float(percent[:-1]) / 100)\n",
    "\n",
    "def convert_columns(data):\n",
    "    perc_list = [col for col in data.columns if \"perc\" in col]\n",
    "\n",
    "    for col in perc_list:\n",
    "        data[col] = data[col].apply(percent_to_float)\n",
    "    \n",
    "    for col in data.columns:\n",
    "        if data[col].dtype == 'object':\n",
    "            data[col] = data[col].apply(lambda x: x.replace(',', ''))\n",
    "    \n",
    "    for col in data.columns:\n",
    "        data[col] = data[col].apply(pd.to_numeric)\n",
    "\n",
    "convert_columns(voting_nums)"
   ]
  },
  {
   "cell_type": "code",
   "execution_count": 5,
   "metadata": {
    "scrolled": true
   },
   "outputs": [],
   "source": [
    "# resettting these values - incorrect in table\n",
    "voting_nums.loc['mcculloch county','2020_voted_num'] = 3436\n",
    "voting_nums.loc['mcculloch county','2020_voted_perc'] = round(3436/5361, 2)\n",
    "voting_nums.loc['mcculloch county','2020_early_vote_num'] = np.nan\n",
    "voting_nums.loc['mcculloch county','2020_early_vote_perc'] = np.nan"
   ]
  },
  {
   "cell_type": "code",
   "execution_count": 6,
   "metadata": {},
   "outputs": [
    {
     "name": "stdout",
     "output_type": "stream",
     "text": [
      "Expected Merged Columns: 23\n",
      "Merged Columns: 23\n"
     ]
    }
   ],
   "source": [
    "df = jack.merge(right = voting_nums, how = 'left', left_index = True, right_index = True)\n",
    "# check shape\n",
    "print('Expected Merged Columns:',jack.shape[1] + voting_nums.shape[1])\n",
    "print('Merged Columns:', df.shape[1])"
   ]
  },
  {
   "cell_type": "markdown",
   "metadata": {},
   "source": [
    "----"
   ]
  },
  {
   "cell_type": "markdown",
   "metadata": {},
   "source": [
    "## Chloe's Data - Voting Numbers by Party"
   ]
  },
  {
   "cell_type": "code",
   "execution_count": 7,
   "metadata": {},
   "outputs": [
    {
     "name": "stdout",
     "output_type": "stream",
     "text": [
      "Expected Merged Columns: 55\n",
      "Merged Columns: 55\n"
     ]
    }
   ],
   "source": [
    "# read in chloe's second df and set index\n",
    "voting_party_data = pd.read_csv('./data/voting_party_data.csv')\n",
    "voting_party_data.set_index('County', inplace = True)\n",
    "voting_party_data.index.rename('county', inplace=True)\n",
    "\n",
    "# convert columns to numeric\n",
    "convert_columns(voting_party_data)\n",
    "\n",
    "# merge df to combined\n",
    "df = df.merge(right = voting_party_data, how = 'left', left_index = True, right_index = True)\n",
    "\n",
    "# check shape\n",
    "print('Expected Merged Columns:',jack.shape[1] + voting_nums.shape[1] + voting_party_data.shape[1])\n",
    "print('Merged Columns:', df.shape[1])"
   ]
  },
  {
   "cell_type": "markdown",
   "metadata": {},
   "source": [
    "----"
   ]
  },
  {
   "cell_type": "markdown",
   "metadata": {},
   "source": [
    "## Lucy's Data - Demographics"
   ]
  },
  {
   "cell_type": "code",
   "execution_count": 8,
   "metadata": {},
   "outputs": [
    {
     "name": "stdout",
     "output_type": "stream",
     "text": [
      "Expected Merged Columns: 460\n",
      "Merged Columns: 460\n"
     ]
    }
   ],
   "source": [
    "asr = pd.read_csv('./data/asr_12_16_20.csv')\n",
    "asr.set_index('county', inplace = True)\n",
    "\n",
    "df = df.merge(right = asr, how = 'left', left_index = True, right_index = True)\n",
    "print('Expected Merged Columns:',jack.shape[1] + voting_nums.shape[1] + voting_party_data.shape[1] + asr.shape[1])\n",
    "print('Merged Columns:', df.shape[1])"
   ]
  },
  {
   "cell_type": "markdown",
   "metadata": {},
   "source": [
    "---"
   ]
  },
  {
   "cell_type": "markdown",
   "metadata": {},
   "source": [
    "## Export CSV"
   ]
  },
  {
   "cell_type": "code",
   "execution_count": 9,
   "metadata": {},
   "outputs": [],
   "source": [
    "df.to_csv('combined_df.csv')"
   ]
  }
 ],
 "metadata": {
  "kernelspec": {
   "display_name": "Python 3",
   "language": "python",
   "name": "python3"
  },
  "language_info": {
   "codemirror_mode": {
    "name": "ipython",
    "version": 3
   },
   "file_extension": ".py",
   "mimetype": "text/x-python",
   "name": "python",
   "nbconvert_exporter": "python",
   "pygments_lexer": "ipython3",
   "version": "3.8.5"
  }
 },
 "nbformat": 4,
 "nbformat_minor": 4
}

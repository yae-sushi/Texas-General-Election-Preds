{
 "cells": [
  {
   "cell_type": "code",
   "execution_count": 4,
   "metadata": {},
   "outputs": [],
   "source": [
    "#imports\n",
    "import seaborn as sns\n",
    "import pandas as pd\n",
    "import matplotlib.pyplot as plt"
   ]
  },
  {
   "cell_type": "code",
   "execution_count": 5,
   "metadata": {},
   "outputs": [],
   "source": [
    "#read in files\n",
    "df = pd.read_csv('./Data Collection/Combined_df.csv', index_col = 'county')\n"
   ]
  },
  {
   "cell_type": "code",
   "execution_count": 8,
   "metadata": {},
   "outputs": [
    {
     "data": {
      "text/plain": [
       "2012_unemp             float64\n",
       "2016_unemp             float64\n",
       "2020_unemp             float64\n",
       "2012_var_state         float64\n",
       "2016_var_state         float64\n",
       "                        ...   \n",
       "hispanic_total_2016    float64\n",
       "hispanic_total_2020    float64\n",
       "total_2012               int64\n",
       "total_2016               int64\n",
       "total_2020               int64\n",
       "Length: 460, dtype: object"
      ]
     },
     "execution_count": 8,
     "metadata": {},
     "output_type": "execute_result"
    }
   ],
   "source": [
    "df.dtypes"
   ]
  },
  {
   "cell_type": "code",
   "execution_count": null,
   "metadata": {},
   "outputs": [],
   "source": [
    "fig = pyplot.subplots(figsize=(10,6))\n",
    "\n",
    "w = sns.scatterplot(x='2020_var_state', y='median_income_2020_16_dollars', data=df, size = (100*df['total_2020']), sizes = (3,100));\n",
    "w.set_title('Median Income by Unemployment Variation from TX Avg.');"
   ]
  },
  {
   "cell_type": "markdown",
   "metadata": {},
   "source": [
    "This graph shows that larger counties tend to have higher median incomes and unemployment rates around the state average. Counties with the highest incomes tend to have unemployment rates around the state average."
   ]
  },
  {
   "cell_type": "markdown",
   "metadata": {},
   "source": [
    "## Plotting National Popular Vote Results vs TX Statewide Results"
   ]
  },
  {
   "cell_type": "code",
   "execution_count": null,
   "metadata": {},
   "outputs": [],
   "source": [
    "tx = pd.read_csv('./Data Collection/Data/TX_statewide_results.csv')"
   ]
  },
  {
   "cell_type": "code",
   "execution_count": null,
   "metadata": {},
   "outputs": [],
   "source": [
    "tx.set_index('Year')\n",
    "tx = tx.head(3)"
   ]
  },
  {
   "cell_type": "code",
   "execution_count": null,
   "metadata": {},
   "outputs": [],
   "source": [
    "tx['margin'] = tx['Percent'] - tx['Percent.1']\n",
    "tx"
   ]
  },
  {
   "cell_type": "code",
   "execution_count": null,
   "metadata": {},
   "outputs": [],
   "source": [
    "natl = pd.read_csv('./Data Collection/Data/National_Popular_vote.csv')"
   ]
  },
  {
   "cell_type": "code",
   "execution_count": null,
   "metadata": {},
   "outputs": [],
   "source": [
    "natl = natl.tail(3)"
   ]
  },
  {
   "cell_type": "code",
   "execution_count": null,
   "metadata": {},
   "outputs": [],
   "source": [
    "natl.head()"
   ]
  },
  {
   "cell_type": "code",
   "execution_count": null,
   "metadata": {},
   "outputs": [],
   "source": [
    "natl['Natl Pop Vote Margin'] = pd.to_numeric(natl['Margin'])"
   ]
  },
  {
   "cell_type": "code",
   "execution_count": 3,
   "metadata": {},
   "outputs": [
    {
     "ename": "NameError",
     "evalue": "name 'natl' is not defined",
     "output_type": "error",
     "traceback": [
      "\u001b[1;31m---------------------------------------------------------------------------\u001b[0m",
      "\u001b[1;31mNameError\u001b[0m                                 Traceback (most recent call last)",
      "\u001b[1;32m<ipython-input-3-16c3d84ce46d>\u001b[0m in \u001b[0;36m<module>\u001b[1;34m\u001b[0m\n\u001b[1;32m----> 1\u001b[1;33m \u001b[0mnatl\u001b[0m\u001b[1;33m[\u001b[0m\u001b[1;34m'Natl Pop Vote Margin'\u001b[0m\u001b[1;33m]\u001b[0m \u001b[1;33m=\u001b[0m \u001b[0mnatl\u001b[0m\u001b[1;33m[\u001b[0m\u001b[1;34m'Natl Pop Vote Margin'\u001b[0m\u001b[1;33m]\u001b[0m \u001b[1;33m*\u001b[0m \u001b[1;36m100\u001b[0m\u001b[1;33m\u001b[0m\u001b[1;33m\u001b[0m\u001b[0m\n\u001b[0m",
      "\u001b[1;31mNameError\u001b[0m: name 'natl' is not defined"
     ]
    }
   ],
   "source": [
    "natl['Natl Pop Vote Margin'] = natl['Natl Pop Vote Margin'] * 100"
   ]
  },
  {
   "cell_type": "code",
   "execution_count": null,
   "metadata": {},
   "outputs": [],
   "source": [
    "natl['TX Pop Vote Margin'] = tx['margin']"
   ]
  },
  {
   "cell_type": "code",
   "execution_count": null,
   "metadata": {},
   "outputs": [],
   "source": [
    "for i in range(3):\n",
    "    natl['TX Pop Vote Margin'].iloc[i] = tx['margin'][2-i];"
   ]
  },
  {
   "cell_type": "code",
   "execution_count": null,
   "metadata": {},
   "outputs": [],
   "source": [
    "natl['TX Repub. Margin vs Natl'] = -(abs(natl['Natl Pop Vote Margin'])+abs(natl['TX Pop Vote Margin']))\n"
   ]
  },
  {
   "cell_type": "code",
   "execution_count": null,
   "metadata": {},
   "outputs": [],
   "source": [
    "natl.set_index('Year', inplace = True)"
   ]
  },
  {
   "cell_type": "code",
   "execution_count": null,
   "metadata": {},
   "outputs": [],
   "source": [
    "natl['Natl Pop Vote Margin'] = abs(natl['Natl Pop Vote Margin'])\n",
    "natl['TX Pop Vote Margin'] = -abs(natl['TX Pop Vote Margin'])"
   ]
  },
  {
   "cell_type": "code",
   "execution_count": null,
   "metadata": {},
   "outputs": [],
   "source": [
    "#fig=plt.figure(figsize=(10,10))\n",
    "natl[['Natl Pop Vote Margin', 'TX Pop Vote Margin', 'TX Repub. Margin vs Natl']].plot(kind='bar', legend=True, grid = False, figsize = (10,7), fontsize = 20, colormap = 'winter', ylabel = 'Democratic Margin', rot = 0)\n",
    "plt.xlabel('Year', fontsize=24)\n",
    "plt.ylabel('Democratic Margin', fontsize = 24)"
   ]
  },
  {
   "cell_type": "markdown",
   "metadata": {},
   "source": [
    "This graph shows the National popular vote margin in Dark Blue and the Texas popular vote margin in light blue. The green column is the difference between how texas voted vs the nation as a whole. Between 2012 and 2016 the green column shrinks from about 20% republican to about 11% republican. This trend encouraged belief in Texas turning blue fairly soon. But 2020 election results discouraged belief in a blue shift as Texas remained about 10% more red than the nation as a whole."
   ]
  },
  {
   "cell_type": "code",
   "execution_count": null,
   "metadata": {},
   "outputs": [],
   "source": [
    "natl.drop(columns = ['Margin'], inplace = True)"
   ]
  },
  {
   "cell_type": "code",
   "execution_count": null,
   "metadata": {},
   "outputs": [],
   "source": [
    "natl"
   ]
  }
 ],
 "metadata": {
  "kernelspec": {
   "display_name": "Python 3",
   "language": "python",
   "name": "python3"
  },
  "language_info": {
   "codemirror_mode": {
    "name": "ipython",
    "version": 3
   },
   "file_extension": ".py",
   "mimetype": "text/x-python",
   "name": "python",
   "nbconvert_exporter": "python",
   "pygments_lexer": "ipython3",
   "version": "3.8.5"
  }
 },
 "nbformat": 4,
 "nbformat_minor": 5
}

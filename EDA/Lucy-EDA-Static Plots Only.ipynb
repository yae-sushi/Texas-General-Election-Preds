{
 "cells": [
  {
   "cell_type": "code",
   "execution_count": 2,
   "metadata": {},
   "outputs": [],
   "source": [
    "import pandas as pd\n",
    "import numpy as np\n",
    "import matplotlib.pyplot as plt\n",
    "import plotly as py\n",
    "import seaborn as sns\n",
    "import plotly.express as px\n",
    "import json\n",
    "\n",
    "sns.set_theme()"
   ]
  },
  {
   "cell_type": "code",
   "execution_count": 3,
   "metadata": {},
   "outputs": [],
   "source": [
    "df = pd.read_csv(\"./Data Collection/combined_df.csv\")\n",
    "fips_df = pd.read_csv(\"./Data Collection/data/2012.csv\")"
   ]
  },
  {
   "cell_type": "code",
   "execution_count": 4,
   "metadata": {},
   "outputs": [],
   "source": [
    "def convert_3_digit_code(fips):\n",
    "    \"\"\"\n",
    "    converts integer fips number to a 3 digit string\n",
    "    with zeroes as left padding if needed\n",
    "    \n",
    "    inputs:\n",
    "    fips - int - fips number to convert\n",
    "    outputs:\n",
    "    fips code as str with length 3\n",
    "    \"\"\"\n",
    "    digits_wanted = 3\n",
    "    result = str(fips)\n",
    "    if fips >= 100:\n",
    "        return result\n",
    "    missing_zeroes = digits_wanted - len(result)\n",
    "    result = \"0\"*missing_zeroes + result\n",
    "    return result"
   ]
  },
  {
   "cell_type": "code",
   "execution_count": 5,
   "metadata": {},
   "outputs": [],
   "source": [
    "# only interested in fips data for plotly\n",
    "fips_df = fips_df[['County', 'FIPS']]\n",
    "fips_df = fips_df[fips_df['County']!='STATE OF TEXAS']\n",
    "\n",
    "# change column name formatting to convention (lowercase and underscores)\n",
    "cols = [col.lower() for col in fips_df.columns]\n",
    "cols = [col.replace(\" \", \"_\") for col in cols]\n",
    "fips_df.columns = cols\n",
    "\n",
    "# change county info to lower case for easier index merging\n",
    "fips_df['county'] = fips_df['county'].apply(lambda x: x.lower())\n",
    "# change de witt county to dewitt county\n",
    "fips_df['county'] = fips_df['county'].replace(to_replace = \"de witt county\",\n",
    "                                             value = \"dewitt county\")\n",
    "\n",
    "# convert fips to 3-digit string\n",
    "fips_df['fips'] = fips_df['fips'].apply(convert_3_digit_code)\n",
    "\n",
    "fips_df = fips_df.set_index('county')\n",
    "fips_df.drop_duplicates(inplace = True)"
   ]
  },
  {
   "cell_type": "code",
   "execution_count": 6,
   "metadata": {},
   "outputs": [],
   "source": [
    "df = df.set_index('county')\n",
    "full = df.merge(right = fips_df, how = 'left', left_index = True, right_index = True)\n",
    "full = full.reset_index()"
   ]
  },
  {
   "cell_type": "markdown",
   "metadata": {},
   "source": [
    "## Economic Factors\n",
    "\n",
    "// https://www.fairvote.org/what_affects_voter_turnout_rates"
   ]
  },
  {
   "cell_type": "markdown",
   "metadata": {},
   "source": [
    "Wealthier Americans are more likely to be voters, and we can examine this economic data in two ways: unemployment rate and median income."
   ]
  },
  {
   "cell_type": "markdown",
   "metadata": {},
   "source": [
    "### Unemployment Rate\n",
    "#### 2012"
   ]
  },
  {
   "cell_type": "markdown",
   "metadata": {},
   "source": [
    "#### 2016"
   ]
  },
  {
   "cell_type": "markdown",
   "metadata": {},
   "source": [
    "#### 2020"
   ]
  },
  {
   "cell_type": "markdown",
   "metadata": {},
   "source": [
    "2020 was an more economically challenging year in terms of unemployment compared to other years, likely due to the COVID-19 pandemic. Unemployment was higher in 2020 across all of Texas' counties than it was in previous years. One trend that endured from 2012 to 2020, however, was that Southern and Southwest Texan counties, most notably Presidio County, consistently observed higher unemployment rates than the rest of the state from across the three general election years."
   ]
  },
  {
   "cell_type": "markdown",
   "metadata": {},
   "source": [
    "### Median Income\n",
    "#### 2012-2016"
   ]
  },
  {
   "cell_type": "markdown",
   "metadata": {},
   "source": [
    "#### 2020"
   ]
  },
  {
   "cell_type": "code",
   "execution_count": null,
   "metadata": {},
   "outputs": [],
   "source": []
  },
  {
   "cell_type": "markdown",
   "metadata": {},
   "source": [
    "### Percentage of Population of Hispanics\n",
    "We proceed to examine the Hispanic demographic, as it is widely believed that Texas's growing Hispanic population could potentially shift Texas's voting patterns.\n",
    "\n",
    "#### 2012"
   ]
  },
  {
   "cell_type": "markdown",
   "metadata": {},
   "source": [
    "#### 2016"
   ]
  },
  {
   "cell_type": "markdown",
   "metadata": {},
   "source": [
    "#### 2020"
   ]
  },
  {
   "cell_type": "markdown",
   "metadata": {},
   "source": [
    "Hispanics tend to compose larger proportions of county population especially in the southern Texan counties. It is also apparent by the increasingly yellow-colored counties over time that the slice of populations in each county that are Hispanic has grown from 2012 to 2016 to 2020. If the Hispanic population has an effect on voting patterns in our modeling, we might expect continued voting changes in the future alongside Texas's changing demographics.\n"
   ]
  },
  {
   "cell_type": "markdown",
   "metadata": {},
   "source": [
    "### Percentage of Population of Black Women\n",
    "We'd also like to examine the proportion of Black women in Texas, as this demographic is known to lean Democratic.\n",
    "#### 2012"
   ]
  },
  {
   "cell_type": "markdown",
   "metadata": {},
   "source": [
    "#### 2016"
   ]
  },
  {
   "cell_type": "markdown",
   "metadata": {},
   "source": [
    "#### 2020"
   ]
  },
  {
   "cell_type": "markdown",
   "metadata": {},
   "source": [
    "Although the population segment of Black women has risen nationally during this time period, this trend is not reflected in Texas as seen by the relatively static colors year to year. However, it is worth noting that counties with high population percentages of Black women are located primarily in East Texas, where the state borders Louisiana. The highest among these is Jefferson County-- 16.54% of its population in 2020 is composed of Black women. "
   ]
  },
  {
   "cell_type": "markdown",
   "metadata": {},
   "source": [
    "### Total Population\n",
    "#### 2012"
   ]
  },
  {
   "cell_type": "markdown",
   "metadata": {},
   "source": [
    "#### 2020"
   ]
  },
  {
   "cell_type": "markdown",
   "metadata": {},
   "source": [
    "While the population in Texas's counties increases over time, overall populations remain concentrated in several major urban areas:\n",
    "- In the Northeast, around Fort Worth and Dallas,\n",
    "- In the center of the state, around Austin and San Antonio,\n",
    "- To the East, near Houston, and\n",
    "- To the South, around Brownsville."
   ]
  },
  {
   "cell_type": "markdown",
   "metadata": {},
   "source": [
    "### Voter Turnout\n",
    "#### 2012"
   ]
  },
  {
   "cell_type": "code",
   "execution_count": null,
   "metadata": {},
   "outputs": [],
   "source": []
  },
  {
   "cell_type": "code",
   "execution_count": null,
   "metadata": {},
   "outputs": [],
   "source": []
  },
  {
   "cell_type": "code",
   "execution_count": 19,
   "metadata": {},
   "outputs": [
    {
     "data": {
      "text/html": [
       "<div>\n",
       "<style scoped>\n",
       "    .dataframe tbody tr th:only-of-type {\n",
       "        vertical-align: middle;\n",
       "    }\n",
       "\n",
       "    .dataframe tbody tr th {\n",
       "        vertical-align: top;\n",
       "    }\n",
       "\n",
       "    .dataframe thead th {\n",
       "        text-align: right;\n",
       "    }\n",
       "</style>\n",
       "<table border=\"1\" class=\"dataframe\">\n",
       "  <thead>\n",
       "    <tr style=\"text-align: right;\">\n",
       "      <th></th>\n",
       "      <th>count</th>\n",
       "      <th>mean</th>\n",
       "      <th>std</th>\n",
       "      <th>min</th>\n",
       "      <th>25%</th>\n",
       "      <th>50%</th>\n",
       "      <th>75%</th>\n",
       "      <th>max</th>\n",
       "    </tr>\n",
       "  </thead>\n",
       "  <tbody>\n",
       "    <tr>\n",
       "      <th>2012_voted_perc</th>\n",
       "      <td>254.0</td>\n",
       "      <td>0.576011</td>\n",
       "      <td>0.076378</td>\n",
       "      <td>0.3039</td>\n",
       "      <td>0.529750</td>\n",
       "      <td>0.58395</td>\n",
       "      <td>0.623350</td>\n",
       "      <td>0.8422</td>\n",
       "    </tr>\n",
       "    <tr>\n",
       "      <th>2016_voted_perc</th>\n",
       "      <td>254.0</td>\n",
       "      <td>0.587839</td>\n",
       "      <td>0.078787</td>\n",
       "      <td>0.2939</td>\n",
       "      <td>0.540300</td>\n",
       "      <td>0.59340</td>\n",
       "      <td>0.637775</td>\n",
       "      <td>0.8949</td>\n",
       "    </tr>\n",
       "    <tr>\n",
       "      <th>2020_voted_perc</th>\n",
       "      <td>254.0</td>\n",
       "      <td>0.651735</td>\n",
       "      <td>0.078754</td>\n",
       "      <td>0.3459</td>\n",
       "      <td>0.601725</td>\n",
       "      <td>0.65875</td>\n",
       "      <td>0.702525</td>\n",
       "      <td>0.8689</td>\n",
       "    </tr>\n",
       "  </tbody>\n",
       "</table>\n",
       "</div>"
      ],
      "text/plain": [
       "                 count      mean       std     min       25%      50%  \\\n",
       "2012_voted_perc  254.0  0.576011  0.076378  0.3039  0.529750  0.58395   \n",
       "2016_voted_perc  254.0  0.587839  0.078787  0.2939  0.540300  0.59340   \n",
       "2020_voted_perc  254.0  0.651735  0.078754  0.3459  0.601725  0.65875   \n",
       "\n",
       "                      75%     max  \n",
       "2012_voted_perc  0.623350  0.8422  \n",
       "2016_voted_perc  0.637775  0.8949  \n",
       "2020_voted_perc  0.702525  0.8689  "
      ]
     },
     "execution_count": 19,
     "metadata": {},
     "output_type": "execute_result"
    }
   ],
   "source": [
    "full[['2012_voted_perc', '2016_voted_perc', '2020_voted_perc']].describe().T"
   ]
  },
  {
   "cell_type": "markdown",
   "metadata": {},
   "source": [
    "Voter turnout in Texas generally increased from general election year to general election year. In 2012, the average turnout was 57.6% and slightly increased in 2016 with 58.8%. In 2020, there was a large increase of about 6% turnout, with 65.2% turnout. Variability in turnout from county to county largely stayed the same across the three general election years, with a standard deviation of 8%. Generally, the western-most and southern-most counties observed less turnout in comparison with other counties.\n",
    "\n",
    "Interestingly, some counties would see abnormally low turnout without an observable pattern over time. Turnout in 2020 was generally higher across the board, though there was one notable exception: Crane County, with Texas's minimum of 34.6% turnout that year."
   ]
  },
  {
   "cell_type": "code",
   "execution_count": null,
   "metadata": {},
   "outputs": [],
   "source": []
  },
  {
   "cell_type": "code",
   "execution_count": 8,
   "metadata": {},
   "outputs": [
    {
     "data": {
      "text/plain": [
       "['2012_voted_perc', '2016_voted_perc', '2020_voted_perc']"
      ]
     },
     "execution_count": 8,
     "metadata": {},
     "output_type": "execute_result"
    }
   ],
   "source": [
    "[col for col in full.columns if \"voted_perc\" in col]"
   ]
  },
  {
   "cell_type": "code",
   "execution_count": 25,
   "metadata": {},
   "outputs": [
    {
     "data": {
      "text/plain": [
       "Index(['county', '2012_unemp', '2016_unemp', '2020_unemp', '2012_var_state',\n",
       "       '2016_var_state', '2020_var_state',\n",
       "       'median_income_2012_2016_16_dollars', 'median_income_2020_16_dollars',\n",
       "       '2012_reg_voters', '2012_voted_num', '2012_voted_perc',\n",
       "       '2012_early_vote_num', '2012_early_vote_perc', '2016_reg_voters',\n",
       "       '2016_voted_num', '2016_voted_perc', '2016_early_vote_num',\n",
       "       '2016_early_vote_perc', '2020_reg_voters', '2020_voted_num',\n",
       "       '2020_voted_perc', '2020_early_vote_num', '2020_early_vote_perc',\n",
       "       '2020_rep_vote_count', '2020_rep_vote_perc', '2020_dem_vote_count',\n",
       "       '2020_dem_vote_perc', '2020_lib_vote_count', '2020_lib_vote_perc',\n",
       "       '2020_grn_vote_count', '2020_grn_vote_perc', '2020_oth_vote_count',\n",
       "       '2020_oth_vote_perc', '2020_votes_total', '2016_rep_vote_counte',\n",
       "       '2016_rep_vote_perc', '2016_dem_vote_count', '2016_dem_vote_perc',\n",
       "       '2016_lib_vote_count', '2016_lib_vote_perc', '2016_grn_vote_count',\n",
       "       '2016_grn_vote_perc', '2016_oth_vote_count', '2016_oth_vote_perc',\n",
       "       '2016_votes_total', '2012_rep_vote_perc', '2012_rep_vote_count',\n",
       "       '2012_dem_vote_perc', '2012_dem_vote_count'],\n",
       "      dtype='object')"
      ]
     },
     "execution_count": 25,
     "metadata": {},
     "output_type": "execute_result"
    }
   ],
   "source": [
    "full.columns[:50]"
   ]
  },
  {
   "cell_type": "code",
   "execution_count": 26,
   "metadata": {},
   "outputs": [
    {
     "data": {
      "text/plain": [
       "Index(['2012_oth_vote_perc', '2012_oth_vote_count', '2012_vote_total',\n",
       "       '2012_CWPP', '2016_CWPP', '2020_CWPP', 'total_2012_18 to 27',\n",
       "       'total_2012_28 to 37', 'total_2012_38 to 47', 'total_2012_48 to 57',\n",
       "       'total_2012_58 to 67', 'total_2012_68 to 77', 'total_2012_78 to 87',\n",
       "       'total_2012_88 to 97', 'total_2016_18 to 27', 'total_2016_28 to 37',\n",
       "       'total_2016_38 to 47', 'total_2016_48 to 57', 'total_2016_58 to 67',\n",
       "       'total_2016_68 to 77', 'total_2016_78 to 87', 'total_2016_88 to 97',\n",
       "       'total_2020_18 to 27', 'total_2020_28 to 37', 'total_2020_38 to 47',\n",
       "       'total_2020_48 to 57', 'total_2020_58 to 67', 'total_2020_68 to 77',\n",
       "       'total_2020_78 to 87', 'total_2020_88 to 97',\n",
       "       'total_male_2012_18 to 27', 'total_male_2012_28 to 37',\n",
       "       'total_male_2012_38 to 47', 'total_male_2012_48 to 57',\n",
       "       'total_male_2012_58 to 67', 'total_male_2012_68 to 77',\n",
       "       'total_male_2012_78 to 87', 'total_male_2012_88 to 97',\n",
       "       'total_male_2016_18 to 27', 'total_male_2016_28 to 37',\n",
       "       'total_male_2016_38 to 47', 'total_male_2016_48 to 57',\n",
       "       'total_male_2016_58 to 67', 'total_male_2016_68 to 77',\n",
       "       'total_male_2016_78 to 87', 'total_male_2016_88 to 97',\n",
       "       'total_male_2020_18 to 27', 'total_male_2020_28 to 37',\n",
       "       'total_male_2020_38 to 47', 'total_male_2020_48 to 57'],\n",
       "      dtype='object')"
      ]
     },
     "execution_count": 26,
     "metadata": {},
     "output_type": "execute_result"
    }
   ],
   "source": [
    "full.columns[50:100]"
   ]
  },
  {
   "cell_type": "code",
   "execution_count": null,
   "metadata": {},
   "outputs": [],
   "source": [
    "full.columns[100:150]"
   ]
  },
  {
   "cell_type": "code",
   "execution_count": 38,
   "metadata": {},
   "outputs": [
    {
     "data": {
      "text/plain": [
       "Index(['anglo_total_2020_78 to 87', 'anglo_total_2020_88 to 97',\n",
       "       'anglo_male_2012_18 to 27', 'anglo_male_2012_28 to 37',\n",
       "       'anglo_male_2012_38 to 47', 'anglo_male_2012_48 to 57',\n",
       "       'anglo_male_2012_58 to 67', 'anglo_male_2012_68 to 77',\n",
       "       'anglo_male_2012_78 to 87', 'anglo_male_2012_88 to 97',\n",
       "       'anglo_male_2016_18 to 27', 'anglo_male_2016_28 to 37',\n",
       "       'anglo_male_2016_38 to 47', 'anglo_male_2016_48 to 57',\n",
       "       'anglo_male_2016_58 to 67', 'anglo_male_2016_68 to 77',\n",
       "       'anglo_male_2016_78 to 87', 'anglo_male_2016_88 to 97',\n",
       "       'anglo_male_2020_18 to 27', 'anglo_male_2020_28 to 37',\n",
       "       'anglo_male_2020_38 to 47', 'anglo_male_2020_48 to 57',\n",
       "       'anglo_male_2020_58 to 67', 'anglo_male_2020_68 to 77',\n",
       "       'anglo_male_2020_78 to 87', 'anglo_male_2020_88 to 97',\n",
       "       'anglo_female_2012_18 to 27', 'anglo_female_2012_28 to 37',\n",
       "       'anglo_female_2012_38 to 47', 'anglo_female_2012_48 to 57',\n",
       "       'anglo_female_2012_58 to 67', 'anglo_female_2012_68 to 77',\n",
       "       'anglo_female_2012_78 to 87', 'anglo_female_2012_88 to 97',\n",
       "       'anglo_female_2016_18 to 27', 'anglo_female_2016_28 to 37',\n",
       "       'anglo_female_2016_38 to 47', 'anglo_female_2016_48 to 57',\n",
       "       'anglo_female_2016_58 to 67', 'anglo_female_2016_68 to 77',\n",
       "       'anglo_female_2016_78 to 87', 'anglo_female_2016_88 to 97',\n",
       "       'anglo_female_2020_18 to 27', 'anglo_female_2020_28 to 37',\n",
       "       'anglo_female_2020_38 to 47', 'anglo_female_2020_48 to 57',\n",
       "       'anglo_female_2020_58 to 67', 'anglo_female_2020_68 to 77',\n",
       "       'anglo_female_2020_78 to 87', 'anglo_female_2020_88 to 97'],\n",
       "      dtype='object')"
      ]
     },
     "execution_count": 38,
     "metadata": {},
     "output_type": "execute_result"
    }
   ],
   "source": [
    "full.columns[150:200]"
   ]
  },
  {
   "cell_type": "code",
   "execution_count": 13,
   "metadata": {},
   "outputs": [
    {
     "data": {
      "text/html": [
       "<div>\n",
       "<style scoped>\n",
       "    .dataframe tbody tr th:only-of-type {\n",
       "        vertical-align: middle;\n",
       "    }\n",
       "\n",
       "    .dataframe tbody tr th {\n",
       "        vertical-align: top;\n",
       "    }\n",
       "\n",
       "    .dataframe thead th {\n",
       "        text-align: right;\n",
       "    }\n",
       "</style>\n",
       "<table border=\"1\" class=\"dataframe\">\n",
       "  <thead>\n",
       "    <tr style=\"text-align: right;\">\n",
       "      <th></th>\n",
       "      <th>county</th>\n",
       "      <th>2012_unemp</th>\n",
       "      <th>2016_unemp</th>\n",
       "      <th>2020_unemp</th>\n",
       "      <th>2012_var_state</th>\n",
       "      <th>2016_var_state</th>\n",
       "      <th>2020_var_state</th>\n",
       "      <th>median_income_2012_2016_16_dollars</th>\n",
       "      <th>median_income_2020_16_dollars</th>\n",
       "      <th>2012_reg_voters</th>\n",
       "      <th>...</th>\n",
       "      <th>other_total_2012</th>\n",
       "      <th>other_total_2016</th>\n",
       "      <th>other_total_2020</th>\n",
       "      <th>hispanic_total_2012</th>\n",
       "      <th>hispanic_total_2016</th>\n",
       "      <th>hispanic_total_2020</th>\n",
       "      <th>total_2012</th>\n",
       "      <th>total_2016</th>\n",
       "      <th>total_2020</th>\n",
       "      <th>fips</th>\n",
       "    </tr>\n",
       "  </thead>\n",
       "  <tbody>\n",
       "    <tr>\n",
       "      <th>0</th>\n",
       "      <td>anderson county</td>\n",
       "      <td>0.036</td>\n",
       "      <td>0.043</td>\n",
       "      <td>0.056</td>\n",
       "      <td>-0.029</td>\n",
       "      <td>-0.005</td>\n",
       "      <td>-0.012</td>\n",
       "      <td>42146</td>\n",
       "      <td>44871</td>\n",
       "      <td>26494</td>\n",
       "      <td>...</td>\n",
       "      <td>0.0205</td>\n",
       "      <td>0.0281</td>\n",
       "      <td>0.0245</td>\n",
       "      <td>0.1642</td>\n",
       "      <td>0.1764</td>\n",
       "      <td>0.1893</td>\n",
       "      <td>58964</td>\n",
       "      <td>58305</td>\n",
       "      <td>58199</td>\n",
       "      <td>001</td>\n",
       "    </tr>\n",
       "    <tr>\n",
       "      <th>1</th>\n",
       "      <td>andrews county</td>\n",
       "      <td>0.031</td>\n",
       "      <td>0.047</td>\n",
       "      <td>0.082</td>\n",
       "      <td>-0.034</td>\n",
       "      <td>-0.001</td>\n",
       "      <td>0.014</td>\n",
       "      <td>70121</td>\n",
       "      <td>69369</td>\n",
       "      <td>8271</td>\n",
       "      <td>...</td>\n",
       "      <td>0.0201</td>\n",
       "      <td>0.0198</td>\n",
       "      <td>0.0169</td>\n",
       "      <td>0.4979</td>\n",
       "      <td>0.5315</td>\n",
       "      <td>0.6273</td>\n",
       "      <td>16039</td>\n",
       "      <td>17829</td>\n",
       "      <td>22269</td>\n",
       "      <td>003</td>\n",
       "    </tr>\n",
       "    <tr>\n",
       "      <th>2</th>\n",
       "      <td>angelina county</td>\n",
       "      <td>0.051</td>\n",
       "      <td>0.059</td>\n",
       "      <td>0.076</td>\n",
       "      <td>-0.014</td>\n",
       "      <td>0.011</td>\n",
       "      <td>0.008</td>\n",
       "      <td>44185</td>\n",
       "      <td>47917</td>\n",
       "      <td>49317</td>\n",
       "      <td>...</td>\n",
       "      <td>0.0227</td>\n",
       "      <td>0.0281</td>\n",
       "      <td>0.0270</td>\n",
       "      <td>0.2059</td>\n",
       "      <td>0.2265</td>\n",
       "      <td>0.2317</td>\n",
       "      <td>88850</td>\n",
       "      <td>90652</td>\n",
       "      <td>90437</td>\n",
       "      <td>005</td>\n",
       "    </tr>\n",
       "    <tr>\n",
       "      <th>3</th>\n",
       "      <td>aransas county</td>\n",
       "      <td>0.068</td>\n",
       "      <td>0.056</td>\n",
       "      <td>0.085</td>\n",
       "      <td>0.003</td>\n",
       "      <td>0.008</td>\n",
       "      <td>0.017</td>\n",
       "      <td>44851</td>\n",
       "      <td>49153</td>\n",
       "      <td>15883</td>\n",
       "      <td>...</td>\n",
       "      <td>0.0380</td>\n",
       "      <td>0.0393</td>\n",
       "      <td>0.0352</td>\n",
       "      <td>0.2546</td>\n",
       "      <td>0.2748</td>\n",
       "      <td>0.3008</td>\n",
       "      <td>23825</td>\n",
       "      <td>25234</td>\n",
       "      <td>27699</td>\n",
       "      <td>007</td>\n",
       "    </tr>\n",
       "    <tr>\n",
       "      <th>4</th>\n",
       "      <td>archer county</td>\n",
       "      <td>0.034</td>\n",
       "      <td>0.043</td>\n",
       "      <td>0.053</td>\n",
       "      <td>-0.031</td>\n",
       "      <td>-0.005</td>\n",
       "      <td>-0.015</td>\n",
       "      <td>62407</td>\n",
       "      <td>59010</td>\n",
       "      <td>6322</td>\n",
       "      <td>...</td>\n",
       "      <td>0.0178</td>\n",
       "      <td>0.0183</td>\n",
       "      <td>0.0235</td>\n",
       "      <td>0.0778</td>\n",
       "      <td>0.0907</td>\n",
       "      <td>0.1095</td>\n",
       "      <td>8996</td>\n",
       "      <td>9123</td>\n",
       "      <td>8344</td>\n",
       "      <td>009</td>\n",
       "    </tr>\n",
       "  </tbody>\n",
       "</table>\n",
       "<p>5 rows × 462 columns</p>\n",
       "</div>"
      ],
      "text/plain": [
       "            county  2012_unemp  2016_unemp  2020_unemp  2012_var_state  \\\n",
       "0  anderson county       0.036       0.043       0.056          -0.029   \n",
       "1   andrews county       0.031       0.047       0.082          -0.034   \n",
       "2  angelina county       0.051       0.059       0.076          -0.014   \n",
       "3   aransas county       0.068       0.056       0.085           0.003   \n",
       "4    archer county       0.034       0.043       0.053          -0.031   \n",
       "\n",
       "   2016_var_state  2020_var_state  median_income_2012_2016_16_dollars  \\\n",
       "0          -0.005          -0.012                               42146   \n",
       "1          -0.001           0.014                               70121   \n",
       "2           0.011           0.008                               44185   \n",
       "3           0.008           0.017                               44851   \n",
       "4          -0.005          -0.015                               62407   \n",
       "\n",
       "   median_income_2020_16_dollars  2012_reg_voters  ...  other_total_2012  \\\n",
       "0                          44871            26494  ...            0.0205   \n",
       "1                          69369             8271  ...            0.0201   \n",
       "2                          47917            49317  ...            0.0227   \n",
       "3                          49153            15883  ...            0.0380   \n",
       "4                          59010             6322  ...            0.0178   \n",
       "\n",
       "   other_total_2016  other_total_2020  hispanic_total_2012  \\\n",
       "0            0.0281            0.0245               0.1642   \n",
       "1            0.0198            0.0169               0.4979   \n",
       "2            0.0281            0.0270               0.2059   \n",
       "3            0.0393            0.0352               0.2546   \n",
       "4            0.0183            0.0235               0.0778   \n",
       "\n",
       "   hispanic_total_2016  hispanic_total_2020  total_2012  total_2016  \\\n",
       "0               0.1764               0.1893       58964       58305   \n",
       "1               0.5315               0.6273       16039       17829   \n",
       "2               0.2265               0.2317       88850       90652   \n",
       "3               0.2748               0.3008       23825       25234   \n",
       "4               0.0907               0.1095        8996        9123   \n",
       "\n",
       "   total_2020  fips  \n",
       "0       58199   001  \n",
       "1       22269   003  \n",
       "2       90437   005  \n",
       "3       27699   007  \n",
       "4        8344   009  \n",
       "\n",
       "[5 rows x 462 columns]"
      ]
     },
     "execution_count": 13,
     "metadata": {},
     "output_type": "execute_result"
    }
   ],
   "source": [
    "full.head()"
   ]
  }
 ],
 "metadata": {
  "kernelspec": {
   "display_name": "Python [conda env:geo]",
   "language": "python",
   "name": "conda-env-geo-py"
  },
  "language_info": {
   "codemirror_mode": {
    "name": "ipython",
    "version": 3
   },
   "file_extension": ".py",
   "mimetype": "text/x-python",
   "name": "python",
   "nbconvert_exporter": "python",
   "pygments_lexer": "ipython3",
   "version": "3.9.5"
  }
 },
 "nbformat": 4,
 "nbformat_minor": 4
}

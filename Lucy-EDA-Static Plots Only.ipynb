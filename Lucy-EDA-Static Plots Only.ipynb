{
 "cells": [
  {
   "cell_type": "markdown",
   "metadata": {},
   "source": [
    "# Exploratory Data Analysis\n",
    "### Geographically-focused Graphics using Plotly and GeoJSON"
   ]
  },
  {
   "cell_type": "markdown",
   "metadata": {},
   "source": [
    "Code for producing the Plotly graphs is included in a separate notebook (Lucy-EDA-generation-only.ipynb). It can be uncommented and run to view interactive versions of these choropleths. The images included in this notebook are static to save space, as Github does not work well with extremely large files."
   ]
  },
  {
   "cell_type": "markdown",
   "metadata": {},
   "source": [
    "## Table of contents\n",
    "1. [Overview](#Overview)\n",
    "2. [Total Population](#totalpop)\n",
    "3. [Voter Turnout](#voterturnout)\n",
    "4. [Democratic vs Republican Votes](#partyvotes)\n",
    "5. [Economic Factors](#econ)\n",
    "    1. [Unemployment](#unemp)\n",
    "    2. [Median Income](#medinc)\n",
    "6. [Demographic Factors](#demo)\n",
    "    1. [Hispanics](#hisp)\n",
    "    2. [Black Women](#blwom)"
   ]
  },
  {
   "cell_type": "code",
   "execution_count": 2,
   "metadata": {},
   "outputs": [],
   "source": [
    "# imports\n",
    "import pandas as pd\n",
    "import numpy as np\n",
    "import matplotlib.pyplot as plt\n",
    "import seaborn as sns\n",
    "\n",
    "sns.set_theme()"
   ]
  },
  {
   "cell_type": "code",
   "execution_count": 3,
   "metadata": {},
   "outputs": [],
   "source": [
    "# read in cleaned and combined dataset\n",
    "full = pd.read_csv(\"./Data Collection/combined_df.csv\")"
   ]
  },
  {
   "cell_type": "markdown",
   "metadata": {},
   "source": [
    "# Overview <a name=\"Overview\"></a>\n",
    "\n",
    "Texas is a Southern US state with a population of over 29 million people, making it the second most populous US state. It shares its southern and some of its western border with Mexico.\n",
    "Its high population corresponds to 38 electoral votes in a general election, a healthy chunk of the 270 a candidate needs to cinch the US presidency.\n",
    "\n",
    "Texas's unique position as such a large state paired with its shifting demographics and voting policies has made it a political point of interest in regards to voting. Going forward, we will be exploring voter turnout and party voting percentages in the state, as well as some of their major contributing factors. [source](https://en.wikipedia.org/wiki/Texas)"
   ]
  },
  {
   "cell_type": "markdown",
   "metadata": {},
   "source": [
    "### Map of Texas\n",
    "[source](https://www.tourtexas.com/texas-maps/map-of-texas-cities)\n",
    "<img src=\"static plotly graphs/texasCities.gif\" />\n"
   ]
  },
  {
   "cell_type": "markdown",
   "metadata": {},
   "source": [
    "Above is a map of Texas state, in order to show some of its most prominent cities as reference for following graphs."
   ]
  },
  {
   "cell_type": "markdown",
   "metadata": {},
   "source": [
    "### Total Population <a name=\"totalpop\"></a>\n",
    "#### 2012\n",
    "<img src=\"static plotly graphs/pop_2012.png\" />"
   ]
  },
  {
   "cell_type": "markdown",
   "metadata": {},
   "source": [
    "#### 2020\n",
    "<img src=\"static plotly graphs/pop_2020.png\" />"
   ]
  },
  {
   "cell_type": "markdown",
   "metadata": {},
   "source": [
    "While the population in Texas's counties increases over time, overall populations remain concentrated in several major urban areas:\n",
    "- In the Northeast, around Fort Worth and Dallas,\n",
    "- In the center of the state, around Austin and San Antonio,\n",
    "- To the East, near Houston, and\n",
    "- To the South, around Brownsville."
   ]
  },
  {
   "cell_type": "markdown",
   "metadata": {},
   "source": [
    "# Voter Turnout <a name=\"voterturnout\"></a>\n",
    "\n",
    "Voter turnout has many complex underlying factors, and can vary widely by region. Some major factors include socioeconomic status, age, and race [(source).](https://www.fairvote.org/what_affects_voter_turnout_rates)"
   ]
  },
  {
   "cell_type": "markdown",
   "metadata": {},
   "source": [
    "### Voter Turnout Rates By County\n",
    "#### 2012\n",
    "<img src=\"static plotly graphs/voted_perc_2012.png\" />"
   ]
  },
  {
   "cell_type": "markdown",
   "metadata": {},
   "source": [
    "#### 2016\n",
    "<img src=\"static plotly graphs/voted_perc_2016.png\" />"
   ]
  },
  {
   "cell_type": "markdown",
   "metadata": {},
   "source": [
    "#### 2020\n",
    "<img src=\"static plotly graphs/voted_perc_2020.png\" />"
   ]
  },
  {
   "cell_type": "code",
   "execution_count": 4,
   "metadata": {},
   "outputs": [
    {
     "data": {
      "text/html": [
       "<div>\n",
       "<style scoped>\n",
       "    .dataframe tbody tr th:only-of-type {\n",
       "        vertical-align: middle;\n",
       "    }\n",
       "\n",
       "    .dataframe tbody tr th {\n",
       "        vertical-align: top;\n",
       "    }\n",
       "\n",
       "    .dataframe thead th {\n",
       "        text-align: right;\n",
       "    }\n",
       "</style>\n",
       "<table border=\"1\" class=\"dataframe\">\n",
       "  <thead>\n",
       "    <tr style=\"text-align: right;\">\n",
       "      <th></th>\n",
       "      <th>count</th>\n",
       "      <th>mean</th>\n",
       "      <th>std</th>\n",
       "      <th>min</th>\n",
       "      <th>25%</th>\n",
       "      <th>50%</th>\n",
       "      <th>75%</th>\n",
       "      <th>max</th>\n",
       "    </tr>\n",
       "  </thead>\n",
       "  <tbody>\n",
       "    <tr>\n",
       "      <th>2012_voted_perc</th>\n",
       "      <td>254.0</td>\n",
       "      <td>0.576011</td>\n",
       "      <td>0.076378</td>\n",
       "      <td>0.3039</td>\n",
       "      <td>0.529750</td>\n",
       "      <td>0.58395</td>\n",
       "      <td>0.623350</td>\n",
       "      <td>0.8422</td>\n",
       "    </tr>\n",
       "    <tr>\n",
       "      <th>2016_voted_perc</th>\n",
       "      <td>254.0</td>\n",
       "      <td>0.587839</td>\n",
       "      <td>0.078787</td>\n",
       "      <td>0.2939</td>\n",
       "      <td>0.540300</td>\n",
       "      <td>0.59340</td>\n",
       "      <td>0.637775</td>\n",
       "      <td>0.8949</td>\n",
       "    </tr>\n",
       "    <tr>\n",
       "      <th>2020_voted_perc</th>\n",
       "      <td>254.0</td>\n",
       "      <td>0.651735</td>\n",
       "      <td>0.078754</td>\n",
       "      <td>0.3459</td>\n",
       "      <td>0.601725</td>\n",
       "      <td>0.65875</td>\n",
       "      <td>0.702525</td>\n",
       "      <td>0.8689</td>\n",
       "    </tr>\n",
       "  </tbody>\n",
       "</table>\n",
       "</div>"
      ],
      "text/plain": [
       "                 count      mean       std     min       25%      50%  \\\n",
       "2012_voted_perc  254.0  0.576011  0.076378  0.3039  0.529750  0.58395   \n",
       "2016_voted_perc  254.0  0.587839  0.078787  0.2939  0.540300  0.59340   \n",
       "2020_voted_perc  254.0  0.651735  0.078754  0.3459  0.601725  0.65875   \n",
       "\n",
       "                      75%     max  \n",
       "2012_voted_perc  0.623350  0.8422  \n",
       "2016_voted_perc  0.637775  0.8949  \n",
       "2020_voted_perc  0.702525  0.8689  "
      ]
     },
     "execution_count": 4,
     "metadata": {},
     "output_type": "execute_result"
    }
   ],
   "source": [
    "full[['2012_voted_perc', '2016_voted_perc', '2020_voted_perc']].describe().T"
   ]
  },
  {
   "cell_type": "markdown",
   "metadata": {},
   "source": [
    "Voter turnout in Texas generally increased from general election year to general election year. In 2012, the average turnout was 57.6% and slightly increased in 2016 with 58.8%. In 2020, there was a large increase of about 6% turnout, with 65.2% turnout. Variability in turnout from county to county largely stayed the same across the three general election years, with a standard deviation of 8%. Generally, the western-most and southern-most counties observed less turnout in comparison with other counties.\n",
    "\n",
    "Interestingly, some counties would see abnormally low turnout without an observable pattern over time. Turnout in 2020 was generally higher across the board, though there was one notable exception: Crane County, with Texas's minimum of 34.6% turnout that year."
   ]
  },
  {
   "cell_type": "markdown",
   "metadata": {},
   "source": [
    "### Distribution of Turnout\n",
    "Since we plan to make a regression model predicting voter turnout based on 2012 data, we need to examine the distribution of turnout from that year."
   ]
  },
  {
   "cell_type": "code",
   "execution_count": 5,
   "metadata": {
    "scrolled": false
   },
   "outputs": [
    {
     "data": {
      "image/png": "[encoded data removed]",
      "text/plain": [
       "<Figure size 648x432 with 1 Axes>"
      ]
     },
     "metadata": {},
     "output_type": "display_data"
    }
   ],
   "source": [
    "plt.figure(figsize= (9, 6))\n",
    "sns.histplot(x = full['2012_voted_perc']*100, color = 'teal')\n",
    "plt.title(\"Texas County Voter Turnout 2012\", size = 20)\n",
    "plt.xlabel(\"% of Population Voted\", size = 16)\n",
    "plt.ylabel(\"Number of Counties\", size = 16)\n",
    "plt.xticks(size = 12)\n",
    "plt.yticks(size = 12)\n",
    "plt.xlim(0, 100);"
   ]
  },
  {
   "cell_type": "markdown",
   "metadata": {},
   "source": [
    "Thankfully, the distribution of county voter turnout looks pretty normal and isn't right or left skewed, so no tranformations are needed to meet model assumptions. We can also observe that most counties had about 50-70% voter participation, which is about what we saw in the choropleth."
   ]
  },
  {
   "cell_type": "markdown",
   "metadata": {},
   "source": [
    "## Democratic vs Republican Votes <a name=\"partyvotes\"></a>"
   ]
  },
  {
   "cell_type": "markdown",
   "metadata": {},
   "source": [
    "#### 2012\n",
    "<img src=\"static plotly graphs/actual_perc_d_2012.png\" />"
   ]
  },
  {
   "cell_type": "markdown",
   "metadata": {},
   "source": [
    "#### 2016\n",
    "<img src=\"static plotly graphs/actual_perc_d_2016.png\" />"
   ]
  },
  {
   "cell_type": "markdown",
   "metadata": {},
   "source": [
    "#### 2020\n",
    "<img src=\"static plotly graphs/actual_perc_d_2020.png\" />"
   ]
  },
  {
   "cell_type": "markdown",
   "metadata": {},
   "source": [
    "Overall, we can see that Texas's counties lean red, or Republican. Major urban centers tend to lean more Democratic, or blue, as do the southern and western counties. The northwest area of Texas consistently votes Republican.\n",
    "\n",
    "One interesting point is that while urban centers swung more towards the Democratic side in 2020 compared to 2012 and 2016, the southern counties moved towards the Republican side."
   ]
  },
  {
   "cell_type": "markdown",
   "metadata": {},
   "source": [
    "## Economic Factors <a name=\"econ\"></a>"
   ]
  },
  {
   "cell_type": "markdown",
   "metadata": {},
   "source": [
    "Wealthier Americans are more likely to be voters, and we can examine this economic data in two ways: unemployment rate and median income."
   ]
  },
  {
   "cell_type": "markdown",
   "metadata": {},
   "source": [
    "### Unemployment Rate <a name=\"unemp\"></a>\n",
    "#### 2012\n",
    "<img src=\"static plotly graphs/unemp_2012.png\" />"
   ]
  },
  {
   "cell_type": "markdown",
   "metadata": {},
   "source": [
    "#### 2016\n",
    "<img src=\"static plotly graphs/unemp_2016.png\" />"
   ]
  },
  {
   "cell_type": "markdown",
   "metadata": {},
   "source": [
    "#### 2020\n",
    "<img src=\"static plotly graphs/unemp_2020.png\" />"
   ]
  },
  {
   "cell_type": "markdown",
   "metadata": {},
   "source": [
    "2020 was an more economically challenging year in terms of unemployment compared to other years, likely due to the COVID-19 pandemic. Unemployment was higher in 2020 across all of Texas' counties than it was in previous years. One trend that endured from 2012 to 2020, however, was that Southern and Southwest Texan counties, most notably Presidio County, consistently observed higher unemployment rates than the rest of the state from across the three general election years."
   ]
  },
  {
   "cell_type": "markdown",
   "metadata": {},
   "source": [
    "### Median Income <a name=\"medinc\"></a>\n",
    "#### 2012-2016\n",
    "<img src=\"static plotly graphs/medincome_2012_2016.png\" />"
   ]
  },
  {
   "cell_type": "markdown",
   "metadata": {},
   "source": [
    "#### 2020\n",
    "<img src=\"static plotly graphs/medincome_2020.png\" />"
   ]
  },
  {
   "cell_type": "markdown",
   "metadata": {},
   "source": [
    "Median income shows an opposite color pattern to unemployment-- counties with higher median incomes generally also had lower unemployment rates. Wealth is concentrated around Texas's major urban centers and in the Northern counties. It is worth noting that these choropleths exhibit similar patterns to the overall voter turnout choropleths, giving credence to the belief that higher socioeconomic status corresponding to more voter turnout holds true in Texas as well."
   ]
  },
  {
   "cell_type": "markdown",
   "metadata": {},
   "source": [
    "## Demographic Factors <a name=\"demo\"></a>"
   ]
  },
  {
   "cell_type": "markdown",
   "metadata": {},
   "source": [
    "### Hispanics <a name=\"hisp\"></a>\n",
    "We proceed to examine the Hispanic demographic, as it is widely believed that Texas's growing Hispanic population could potentially shift Texas's voting patterns.\n",
    "\n",
    "#### 2012\n",
    "<img src=\"static plotly graphs/hispanic_2012.png\" />"
   ]
  },
  {
   "cell_type": "markdown",
   "metadata": {},
   "source": [
    "#### 2016\n",
    "<img src=\"static plotly graphs/hispanic_2016.png\" />"
   ]
  },
  {
   "cell_type": "markdown",
   "metadata": {},
   "source": [
    "#### 2020\n",
    "<img src=\"static plotly graphs/hispanic_2020.png\" />"
   ]
  },
  {
   "cell_type": "markdown",
   "metadata": {},
   "source": [
    "Hispanics tend to compose larger proportions of county population especially in the southern Texan counties near the Texas-Mexico border, as well as in some of Texas's largest cities. It is also apparent by the increasingly yellow-colored counties over time that the slice of populations in each county that are Hispanic has grown from 2012 to 2016 to 2020. If the Hispanic population has an effect on voting patterns in our modeling, we might expect continued voting changes in the future that reflect Texas's changing demographics."
   ]
  },
  {
   "cell_type": "code",
   "execution_count": 7,
   "metadata": {
    "scrolled": false
   },
   "outputs": [
    {
     "data": {
      "image/png": "[encoded data removed]",
      "text/plain": [
       "<Figure size 648x432 with 1 Axes>"
      ]
     },
     "metadata": {},
     "output_type": "display_data"
    }
   ],
   "source": [
    "plt.figure(figsize = (9, 6))\n",
    "sns.scatterplot(x = full['hispanic_total_2020']*100,\n",
    "            y = full['2020_dem_vote_perc']*100)\n",
    "plt.title(\"2020 Democratic Vote vs Hispanic Population\", size = 20)\n",
    "plt.xlabel(\"% Hispanic Population\", size = 16)\n",
    "plt.ylabel(\"% Voted Democratic\", size = 16)\n",
    "plt.xlim((0, 100))\n",
    "plt.ylim((0, 100))\n",
    "plt.xticks(size = 12)\n",
    "plt.yticks(size = 12);"
   ]
  },
  {
   "cell_type": "markdown",
   "metadata": {},
   "source": [
    "There may be a slight positive correlation between percentage of county population that is hispanic and percentage of county voting Democratic, but we see a lot of variability in voting at any amount of Hispanics. It will be interesting to see whether our model considers hispanic demographics to be a strong Democratic voting predictor."
   ]
  },
  {
   "cell_type": "markdown",
   "metadata": {},
   "source": [
    "### Black Women <a name=\"blwom\"></a>\n",
    "We'd also like to examine the proportion of Black women in Texas, as this demographic is known to lean Democratic [(source).](https://www.pewresearch.org/2020/09/23/the-changing-racial-and-ethnic-composition-of-the-u-s-electorate/)\n",
    "#### 2012\n",
    "<img src=\"static plotly graphs/black_f_2012.png\" />"
   ]
  },
  {
   "cell_type": "markdown",
   "metadata": {},
   "source": [
    "#### 2020\n",
    "<img src=\"static plotly graphs/black_f_2020.png\" />"
   ]
  },
  {
   "cell_type": "markdown",
   "metadata": {},
   "source": [
    "Although the population segment of Black women has risen nationally during this time period, this trend is not reflected in Texas as seen by the relatively static colors year to year. However, it is worth noting that counties with high population percentages of Black women are located primarily in East Texas, where the state borders Louisiana. The highest among these is Jefferson County-- 16.54% of its population in 2020 is composed of Black women. \n",
    "\n",
    "Curiously, the increased proportion of Black women in eastern Texas is not visually reflected in the choropleths of Texan counties' voter turnout or party votes. If anything, it actually seems to run opposite to the Hispanic demographic choropleths provided above."
   ]
  }
 ],
 "metadata": {
  "kernelspec": {
   "display_name": "Python [conda env:geo]",
   "language": "python",
   "name": "conda-env-geo-py"
  },
  "language_info": {
   "codemirror_mode": {
    "name": "ipython",
    "version": 3
   },
   "file_extension": ".py",
   "mimetype": "text/x-python",
   "name": "python",
   "nbconvert_exporter": "python",
   "pygments_lexer": "ipython3",
   "version": "3.9.5"
  }
 },
 "nbformat": 4,
 "nbformat_minor": 4
}
